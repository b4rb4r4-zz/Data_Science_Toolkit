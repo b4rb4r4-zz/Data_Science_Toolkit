{
 "cells": [
  {
   "cell_type": "markdown",
   "metadata": {},
   "source": [
    "# Tutorial da Biblioteca Numpy"
   ]
  },
  {
   "cell_type": "code",
   "execution_count": 1,
   "metadata": {
    "ExecuteTime": {
     "end_time": "2019-05-30T22:51:02.227130Z",
     "start_time": "2019-05-30T22:51:02.053653Z"
    }
   },
   "outputs": [],
   "source": [
    "import numpy as np"
   ]
  },
  {
   "cell_type": "code",
   "execution_count": 2,
   "metadata": {
    "ExecuteTime": {
     "end_time": "2019-05-30T22:51:57.667284Z",
     "start_time": "2019-05-30T22:51:57.662281Z"
    }
   },
   "outputs": [],
   "source": [
    "# Criando um simples array\n",
    "arr = np.arange(0,11)"
   ]
  },
  {
   "cell_type": "code",
   "execution_count": 3,
   "metadata": {
    "ExecuteTime": {
     "end_time": "2019-05-30T22:52:14.269461Z",
     "start_time": "2019-05-30T22:52:14.250444Z"
    }
   },
   "outputs": [
    {
     "data": {
      "text/plain": [
       "array([ 0,  2,  4,  6,  8, 10, 12, 14, 16, 18, 20])"
      ]
     },
     "execution_count": 3,
     "metadata": {},
     "output_type": "execute_result"
    }
   ],
   "source": [
    "arr + arr"
   ]
  },
  {
   "cell_type": "code",
   "execution_count": 4,
   "metadata": {
    "ExecuteTime": {
     "end_time": "2019-05-30T22:52:19.943533Z",
     "start_time": "2019-05-30T22:52:19.936488Z"
    }
   },
   "outputs": [
    {
     "data": {
      "text/plain": [
       "array([0, 0, 0, 0, 0, 0, 0, 0, 0, 0, 0])"
      ]
     },
     "execution_count": 4,
     "metadata": {},
     "output_type": "execute_result"
    }
   ],
   "source": [
    "arr - arr"
   ]
  },
  {
   "cell_type": "code",
   "execution_count": 5,
   "metadata": {
    "ExecuteTime": {
     "end_time": "2019-05-30T22:52:26.646428Z",
     "start_time": "2019-05-30T22:52:26.641441Z"
    }
   },
   "outputs": [
    {
     "data": {
      "text/plain": [
       "array([  0,   1,   4,   9,  16,  25,  36,  49,  64,  81, 100])"
      ]
     },
     "execution_count": 5,
     "metadata": {},
     "output_type": "execute_result"
    }
   ],
   "source": [
    "arr*arr"
   ]
  },
  {
   "cell_type": "code",
   "execution_count": 6,
   "metadata": {
    "ExecuteTime": {
     "end_time": "2019-05-30T22:52:32.081664Z",
     "start_time": "2019-05-30T22:52:31.992885Z"
    }
   },
   "outputs": [
    {
     "name": "stderr",
     "output_type": "stream",
     "text": [
      "C:\\Users\\bgfar\\Anaconda3\\lib\\site-packages\\ipykernel_launcher.py:1: RuntimeWarning: invalid value encountered in true_divide\n",
      "  \"\"\"Entry point for launching an IPython kernel.\n"
     ]
    },
    {
     "data": {
      "text/plain": [
       "array([nan,  1.,  1.,  1.,  1.,  1.,  1.,  1.,  1.,  1.,  1.])"
      ]
     },
     "execution_count": 6,
     "metadata": {},
     "output_type": "execute_result"
    }
   ],
   "source": [
    "arr/arr"
   ]
  },
  {
   "cell_type": "code",
   "execution_count": 7,
   "metadata": {
    "ExecuteTime": {
     "end_time": "2019-05-30T22:56:15.325024Z",
     "start_time": "2019-05-30T22:56:15.317045Z"
    }
   },
   "outputs": [
    {
     "data": {
      "text/plain": [
       "385"
      ]
     },
     "execution_count": 7,
     "metadata": {},
     "output_type": "execute_result"
    }
   ],
   "source": [
    "#Multiplicação matricial\n",
    "np.dot(arr,arr)"
   ]
  },
  {
   "cell_type": "markdown",
   "metadata": {},
   "source": [
    "### Reshape"
   ]
  },
  {
   "cell_type": "code",
   "execution_count": 81,
   "metadata": {
    "ExecuteTime": {
     "end_time": "2019-05-31T01:34:54.549132Z",
     "start_time": "2019-05-31T01:34:54.540258Z"
    }
   },
   "outputs": [
    {
     "data": {
      "text/plain": [
       "array([[0.15129878, 0.88146812, 0.99744187, 0.02397822, 0.40952795],\n",
       "       [0.01548566, 0.34200886, 0.55767021, 0.03562067, 0.32555282],\n",
       "       [0.79021081, 0.61767054, 0.06201647, 0.52449293, 0.31433487],\n",
       "       [0.0614879 , 0.00283053, 0.49084763, 0.63004423, 0.99196866],\n",
       "       [0.68265705, 0.11164038, 0.42644919, 0.91324105, 0.24928185]])"
      ]
     },
     "execution_count": 81,
     "metadata": {},
     "output_type": "execute_result"
    }
   ],
   "source": [
    "arr = np.random.rand(5,5)\n",
    "arr"
   ]
  },
  {
   "cell_type": "code",
   "execution_count": 80,
   "metadata": {
    "ExecuteTime": {
     "end_time": "2019-05-31T01:34:44.156485Z",
     "start_time": "2019-05-31T01:34:44.150053Z"
    }
   },
   "outputs": [
    {
     "data": {
      "text/plain": [
       "(1, 25)"
      ]
     },
     "execution_count": 80,
     "metadata": {},
     "output_type": "execute_result"
    }
   ],
   "source": [
    "arr.reshape(1,25).shape"
   ]
  },
  {
   "cell_type": "markdown",
   "metadata": {},
   "source": [
    "### Adicionando ou removendo elementos do ndarray"
   ]
  },
  {
   "cell_type": "code",
   "execution_count": 26,
   "metadata": {
    "ExecuteTime": {
     "end_time": "2019-05-30T23:09:38.271357Z",
     "start_time": "2019-05-30T23:09:38.265373Z"
    }
   },
   "outputs": [
    {
     "data": {
      "text/plain": [
       "array([0, 1, 2, 3, 4, 5, 6, 7, 8, 9])"
      ]
     },
     "execution_count": 26,
     "metadata": {},
     "output_type": "execute_result"
    }
   ],
   "source": [
    "# Crinado uma nova matriz\n",
    "arr2 = np.arange(0,10)\n",
    "arr2"
   ]
  },
  {
   "cell_type": "markdown",
   "metadata": {},
   "source": [
    "**Adicionando linhas**   \n",
    "As matrizes devem ter o mesmo número de colunas"
   ]
  },
  {
   "cell_type": "code",
   "execution_count": 18,
   "metadata": {
    "ExecuteTime": {
     "end_time": "2019-05-30T23:06:34.182598Z",
     "start_time": "2019-05-30T23:06:34.173623Z"
    }
   },
   "outputs": [
    {
     "data": {
      "text/plain": [
       "array([0.85051608, 0.04065144, 0.4760942 , 0.8271763 , 0.24720026,\n",
       "       0.97385729, 0.95629491, 0.93566257, 0.49373307, 0.22347112,\n",
       "       0.40093978, 0.87381702, 0.90637742, 0.59675687, 0.28423589,\n",
       "       0.33077822, 0.89958811, 0.90965318, 0.39576621, 0.39591131,\n",
       "       0.42142999, 0.22533982, 0.89972757, 0.50653992, 0.7159289 ,\n",
       "       0.        , 1.        , 2.        , 3.        , 4.        ,\n",
       "       5.        , 6.        , 7.        , 8.        , 9.        ])"
      ]
     },
     "execution_count": 18,
     "metadata": {},
     "output_type": "execute_result"
    }
   ],
   "source": [
    "np.append(arr,arr2)"
   ]
  },
  {
   "cell_type": "markdown",
   "metadata": {},
   "source": [
    "**Adicionando colunas**   \n",
    "As matrizes devem ter o mesmo número de linhas"
   ]
  },
  {
   "cell_type": "code",
   "execution_count": 73,
   "metadata": {
    "ExecuteTime": {
     "end_time": "2019-05-31T01:33:15.546450Z",
     "start_time": "2019-05-31T01:33:15.542410Z"
    }
   },
   "outputs": [],
   "source": [
    "arr2 = arr2.reshape(5,2)"
   ]
  },
  {
   "cell_type": "code",
   "execution_count": 39,
   "metadata": {
    "ExecuteTime": {
     "end_time": "2019-05-31T00:34:06.407647Z",
     "start_time": "2019-05-31T00:34:06.401632Z"
    }
   },
   "outputs": [
    {
     "data": {
      "text/plain": [
       "array([[0.02333344, 0.0122683 , 0.35679572, 0.52378216, 0.55056427,\n",
       "        0.        , 1.        ],\n",
       "       [0.69764012, 0.77777181, 0.45803744, 0.92100401, 0.23408926,\n",
       "        2.        , 3.        ],\n",
       "       [0.14333916, 0.16048168, 0.11482062, 0.21961559, 0.9999387 ,\n",
       "        4.        , 5.        ],\n",
       "       [0.50586923, 0.21043387, 0.49912969, 0.9658327 , 0.24750694,\n",
       "        6.        , 7.        ],\n",
       "       [0.07832942, 0.88966797, 0.94045879, 0.08003223, 0.67936044,\n",
       "        8.        , 9.        ]])"
      ]
     },
     "execution_count": 39,
     "metadata": {},
     "output_type": "execute_result"
    }
   ],
   "source": [
    "np.append(arr,arr2,axis=1)"
   ]
  },
  {
   "cell_type": "markdown",
   "metadata": {},
   "source": [
    "**Inserindo elementos**\n",
    "\n",
    "1. Inserindo constante"
   ]
  },
  {
   "cell_type": "code",
   "execution_count": 84,
   "metadata": {
    "ExecuteTime": {
     "end_time": "2019-05-31T01:35:22.355567Z",
     "start_time": "2019-05-31T01:35:22.350554Z"
    }
   },
   "outputs": [],
   "source": [
    "num = np.array(5)"
   ]
  },
  {
   "cell_type": "code",
   "execution_count": 86,
   "metadata": {
    "ExecuteTime": {
     "end_time": "2019-05-31T01:35:54.248033Z",
     "start_time": "2019-05-31T01:35:54.240053Z"
    }
   },
   "outputs": [
    {
     "data": {
      "text/plain": [
       "array([[1.51298777e-01, 5.00000000e+00, 8.81468117e-01, 9.97441874e-01,\n",
       "        2.39782249e-02, 4.09527950e-01],\n",
       "       [1.54856551e-02, 5.00000000e+00, 3.42008861e-01, 5.57670213e-01,\n",
       "        3.56206688e-02, 3.25552818e-01],\n",
       "       [7.90210812e-01, 5.00000000e+00, 6.17670536e-01, 6.20164734e-02,\n",
       "        5.24492933e-01, 3.14334874e-01],\n",
       "       [6.14878992e-02, 5.00000000e+00, 2.83052843e-03, 4.90847633e-01,\n",
       "        6.30044227e-01, 9.91968658e-01],\n",
       "       [6.82657051e-01, 5.00000000e+00, 1.11640380e-01, 4.26449189e-01,\n",
       "        9.13241046e-01, 2.49281849e-01]])"
      ]
     },
     "execution_count": 86,
     "metadata": {},
     "output_type": "execute_result"
    }
   ],
   "source": [
    "np.insert(arr,1,num, axis=1) #Preenchendo a segunda coluna"
   ]
  },
  {
   "cell_type": "code",
   "execution_count": 87,
   "metadata": {
    "ExecuteTime": {
     "end_time": "2019-05-31T01:36:09.444063Z",
     "start_time": "2019-05-31T01:36:09.437935Z"
    }
   },
   "outputs": [
    {
     "data": {
      "text/plain": [
       "array([[1.51298777e-01, 8.81468117e-01, 9.97441874e-01, 2.39782249e-02,\n",
       "        4.09527950e-01],\n",
       "       [1.54856551e-02, 3.42008861e-01, 5.57670213e-01, 3.56206688e-02,\n",
       "        3.25552818e-01],\n",
       "       [7.90210812e-01, 6.17670536e-01, 6.20164734e-02, 5.24492933e-01,\n",
       "        3.14334874e-01],\n",
       "       [5.00000000e+00, 5.00000000e+00, 5.00000000e+00, 5.00000000e+00,\n",
       "        5.00000000e+00],\n",
       "       [6.14878992e-02, 2.83052843e-03, 4.90847633e-01, 6.30044227e-01,\n",
       "        9.91968658e-01],\n",
       "       [6.82657051e-01, 1.11640380e-01, 4.26449189e-01, 9.13241046e-01,\n",
       "        2.49281849e-01]])"
      ]
     },
     "execution_count": 87,
     "metadata": {},
     "output_type": "execute_result"
    }
   ],
   "source": [
    "np.insert(arr, 3, num, axis=0) #Preenchendo a quarta linha"
   ]
  },
  {
   "cell_type": "markdown",
   "metadata": {},
   "source": [
    "2. Inserindo vetor"
   ]
  },
  {
   "cell_type": "code",
   "execution_count": 67,
   "metadata": {
    "ExecuteTime": {
     "end_time": "2019-05-31T01:31:54.852734Z",
     "start_time": "2019-05-31T01:31:54.848629Z"
    }
   },
   "outputs": [],
   "source": [
    "num = np.array([1,2,3])"
   ]
  },
  {
   "cell_type": "code",
   "execution_count": 75,
   "metadata": {
    "ExecuteTime": {
     "end_time": "2019-05-31T01:33:36.586619Z",
     "start_time": "2019-05-31T01:33:36.579639Z"
    }
   },
   "outputs": [
    {
     "data": {
      "text/plain": [
       "array([0.02333344, 0.0122683 , 0.35679572, 0.52378216, 0.55056427,\n",
       "       0.69764012, 0.77777181, 0.45803744, 0.92100401, 0.23408926,\n",
       "       1.        , 2.        , 3.        , 0.14333916, 0.16048168,\n",
       "       0.11482062, 0.21961559, 0.9999387 , 0.50586923, 0.21043387,\n",
       "       0.49912969, 0.9658327 , 0.24750694, 0.07832942, 0.88966797,\n",
       "       0.94045879, 0.08003223, 0.67936044])"
      ]
     },
     "execution_count": 75,
     "metadata": {},
     "output_type": "execute_result"
    }
   ],
   "source": [
    "# Quando o eixo não é informado, o comando faz um flatten na matrix e insere o vetor no décimo elemento\n",
    "np.insert(arr,10,num)"
   ]
  },
  {
   "cell_type": "code",
   "execution_count": 88,
   "metadata": {
    "ExecuteTime": {
     "end_time": "2019-05-31T01:40:11.936028Z",
     "start_time": "2019-05-31T01:40:11.929356Z"
    }
   },
   "outputs": [
    {
     "data": {
      "text/plain": [
       "array([[0.15129878, 0.88146812, 0.02397822, 0.40952795],\n",
       "       [0.01548566, 0.34200886, 0.03562067, 0.32555282],\n",
       "       [0.79021081, 0.61767054, 0.52449293, 0.31433487],\n",
       "       [0.0614879 , 0.00283053, 0.63004423, 0.99196866],\n",
       "       [0.68265705, 0.11164038, 0.91324105, 0.24928185]])"
      ]
     },
     "execution_count": 88,
     "metadata": {},
     "output_type": "execute_result"
    }
   ],
   "source": [
    "np.delete(arr, 2, axis=1) #deletando a terceira coluna"
   ]
  },
  {
   "cell_type": "markdown",
   "metadata": {
    "ExecuteTime": {
     "end_time": "2019-05-31T00:26:43.539725Z",
     "start_time": "2019-05-31T00:26:43.528752Z"
    }
   },
   "source": [
    "### Principais Atributos e Funções\n",
    "\n",
    "- max()  / argmax()\n",
    "- min()  / argmin()\n",
    "- mean()\n",
    "- std()\n",
    "- ravel()\n",
    "- flatten()\n",
    "- sort()\n",
    "- shuffle()"
   ]
  },
  {
   "cell_type": "code",
   "execution_count": 89,
   "metadata": {
    "ExecuteTime": {
     "end_time": "2019-05-31T01:51:18.847848Z",
     "start_time": "2019-05-31T01:51:18.842374Z"
    }
   },
   "outputs": [
    {
     "data": {
      "text/plain": [
       "0.9974418738575519"
      ]
     },
     "execution_count": 89,
     "metadata": {},
     "output_type": "execute_result"
    }
   ],
   "source": [
    "arr.max()"
   ]
  },
  {
   "cell_type": "code",
   "execution_count": 90,
   "metadata": {
    "ExecuteTime": {
     "end_time": "2019-05-31T01:51:28.552349Z",
     "start_time": "2019-05-31T01:51:28.545371Z"
    }
   },
   "outputs": [
    {
     "data": {
      "text/plain": [
       "2"
      ]
     },
     "execution_count": 90,
     "metadata": {},
     "output_type": "execute_result"
    }
   ],
   "source": [
    "arr.argmax()"
   ]
  },
  {
   "cell_type": "code",
   "execution_count": 91,
   "metadata": {
    "ExecuteTime": {
     "end_time": "2019-05-31T01:51:38.811314Z",
     "start_time": "2019-05-31T01:51:38.805293Z"
    }
   },
   "outputs": [
    {
     "data": {
      "text/plain": [
       "0.0028305284300740308"
      ]
     },
     "execution_count": 91,
     "metadata": {},
     "output_type": "execute_result"
    }
   ],
   "source": [
    "arr.min()"
   ]
  },
  {
   "cell_type": "code",
   "execution_count": 92,
   "metadata": {
    "ExecuteTime": {
     "end_time": "2019-05-31T01:51:47.075564Z",
     "start_time": "2019-05-31T01:51:47.068583Z"
    }
   },
   "outputs": [
    {
     "data": {
      "text/plain": [
       "16"
      ]
     },
     "execution_count": 92,
     "metadata": {},
     "output_type": "execute_result"
    }
   ],
   "source": [
    "arr.argmin()"
   ]
  },
  {
   "cell_type": "code",
   "execution_count": 93,
   "metadata": {
    "ExecuteTime": {
     "end_time": "2019-05-31T01:52:07.458204Z",
     "start_time": "2019-05-31T01:52:07.451974Z"
    }
   },
   "outputs": [
    {
     "data": {
      "text/plain": [
       "0.4243690899203545"
      ]
     },
     "execution_count": 93,
     "metadata": {},
     "output_type": "execute_result"
    }
   ],
   "source": [
    "arr.mean()"
   ]
  },
  {
   "cell_type": "code",
   "execution_count": 94,
   "metadata": {
    "ExecuteTime": {
     "end_time": "2019-05-31T01:52:14.867307Z",
     "start_time": "2019-05-31T01:52:14.862556Z"
    }
   },
   "outputs": [
    {
     "data": {
      "text/plain": [
       "0.3201345875517597"
      ]
     },
     "execution_count": 94,
     "metadata": {},
     "output_type": "execute_result"
    }
   ],
   "source": [
    "arr.std()"
   ]
  },
  {
   "cell_type": "code",
   "execution_count": 95,
   "metadata": {
    "ExecuteTime": {
     "end_time": "2019-05-31T01:52:33.362623Z",
     "start_time": "2019-05-31T01:52:33.356641Z"
    }
   },
   "outputs": [
    {
     "data": {
      "text/plain": [
       "array([0.15129878, 0.88146812, 0.99744187, 0.02397822, 0.40952795,\n",
       "       0.01548566, 0.34200886, 0.55767021, 0.03562067, 0.32555282,\n",
       "       0.79021081, 0.61767054, 0.06201647, 0.52449293, 0.31433487,\n",
       "       0.0614879 , 0.00283053, 0.49084763, 0.63004423, 0.99196866,\n",
       "       0.68265705, 0.11164038, 0.42644919, 0.91324105, 0.24928185])"
      ]
     },
     "execution_count": 95,
     "metadata": {},
     "output_type": "execute_result"
    }
   ],
   "source": [
    "arr.ravel()"
   ]
  },
  {
   "cell_type": "code",
   "execution_count": 96,
   "metadata": {
    "ExecuteTime": {
     "end_time": "2019-05-31T01:52:50.311935Z",
     "start_time": "2019-05-31T01:52:50.303958Z"
    }
   },
   "outputs": [
    {
     "data": {
      "text/plain": [
       "array([0.15129878, 0.88146812, 0.99744187, 0.02397822, 0.40952795,\n",
       "       0.01548566, 0.34200886, 0.55767021, 0.03562067, 0.32555282,\n",
       "       0.79021081, 0.61767054, 0.06201647, 0.52449293, 0.31433487,\n",
       "       0.0614879 , 0.00283053, 0.49084763, 0.63004423, 0.99196866,\n",
       "       0.68265705, 0.11164038, 0.42644919, 0.91324105, 0.24928185])"
      ]
     },
     "execution_count": 96,
     "metadata": {},
     "output_type": "execute_result"
    }
   ],
   "source": [
    "arr.flatten()"
   ]
  },
  {
   "cell_type": "code",
   "execution_count": 98,
   "metadata": {
    "ExecuteTime": {
     "end_time": "2019-05-31T01:53:29.964255Z",
     "start_time": "2019-05-31T01:53:29.958775Z"
    }
   },
   "outputs": [
    {
     "data": {
      "text/plain": [
       "array([[0.01548566, 0.00283053, 0.06201647, 0.02397822, 0.24928185],\n",
       "       [0.0614879 , 0.11164038, 0.42644919, 0.03562067, 0.31433487],\n",
       "       [0.15129878, 0.34200886, 0.49084763, 0.52449293, 0.32555282],\n",
       "       [0.68265705, 0.61767054, 0.55767021, 0.63004423, 0.40952795],\n",
       "       [0.79021081, 0.88146812, 0.99744187, 0.91324105, 0.99196866]])"
      ]
     },
     "execution_count": 98,
     "metadata": {},
     "output_type": "execute_result"
    }
   ],
   "source": [
    "np.sort(arr,axis=0)"
   ]
  },
  {
   "cell_type": "code",
   "execution_count": 101,
   "metadata": {
    "ExecuteTime": {
     "end_time": "2019-05-31T01:54:13.378470Z",
     "start_time": "2019-05-31T01:54:13.368506Z"
    }
   },
   "outputs": [
    {
     "data": {
      "text/plain": [
       "array([[0.15129878, 0.88146812, 0.99744187, 0.02397822, 0.40952795],\n",
       "       [0.01548566, 0.34200886, 0.55767021, 0.03562067, 0.32555282],\n",
       "       [0.79021081, 0.61767054, 0.06201647, 0.52449293, 0.31433487],\n",
       "       [0.0614879 , 0.00283053, 0.49084763, 0.63004423, 0.99196866],\n",
       "       [0.68265705, 0.11164038, 0.42644919, 0.91324105, 0.24928185]])"
      ]
     },
     "execution_count": 101,
     "metadata": {},
     "output_type": "execute_result"
    }
   ],
   "source": [
    "np.random.shuffle(arr)\n",
    "arr"
   ]
  },
  {
   "cell_type": "code",
   "execution_count": null,
   "metadata": {},
   "outputs": [],
   "source": []
  }
 ],
 "metadata": {
  "kernelspec": {
   "display_name": "Python 3",
   "language": "python",
   "name": "python3"
  },
  "language_info": {
   "codemirror_mode": {
    "name": "ipython",
    "version": 3
   },
   "file_extension": ".py",
   "mimetype": "text/x-python",
   "name": "python",
   "nbconvert_exporter": "python",
   "pygments_lexer": "ipython3",
   "version": "3.7.0"
  },
  "toc": {
   "base_numbering": 1,
   "nav_menu": {},
   "number_sections": true,
   "sideBar": true,
   "skip_h1_title": false,
   "title_cell": "Table of Contents",
   "title_sidebar": "Contents",
   "toc_cell": false,
   "toc_position": {},
   "toc_section_display": true,
   "toc_window_display": false
  }
 },
 "nbformat": 4,
 "nbformat_minor": 2
}
