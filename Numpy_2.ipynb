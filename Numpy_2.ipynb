{
 "cells": [
  {
   "cell_type": "markdown",
   "metadata": {},
   "source": [
    "# Tutorial da Biblioteca Numpy"
   ]
  },
  {
   "cell_type": "markdown",
   "metadata": {
    "heading_collapsed": true
   },
   "source": [
    "### Operações com arrays\n",
    "\n",
    "- Soma\n",
    "- Subtração\n",
    "- Multiplicação\n",
    "- Divisão\n",
    "- Multiplicação matricial"
   ]
  },
  {
   "cell_type": "code",
   "execution_count": 2,
   "metadata": {
    "ExecuteTime": {
     "end_time": "2019-05-31T11:52:42.124583Z",
     "start_time": "2019-05-31T11:52:40.496370Z"
    },
    "hidden": true
   },
   "outputs": [],
   "source": [
    "import numpy as np"
   ]
  },
  {
   "cell_type": "code",
   "execution_count": 3,
   "metadata": {
    "ExecuteTime": {
     "end_time": "2019-05-31T11:52:42.136499Z",
     "start_time": "2019-05-31T11:52:42.130517Z"
    },
    "hidden": true
   },
   "outputs": [],
   "source": [
    "# Criando um simples array\n",
    "arr = np.arange(0,11)"
   ]
  },
  {
   "cell_type": "code",
   "execution_count": 4,
   "metadata": {
    "ExecuteTime": {
     "end_time": "2019-05-31T11:52:42.270343Z",
     "start_time": "2019-05-31T11:52:42.138495Z"
    },
    "hidden": true
   },
   "outputs": [
    {
     "data": {
      "text/plain": [
       "array([ 0,  2,  4,  6,  8, 10, 12, 14, 16, 18, 20])"
      ]
     },
     "execution_count": 4,
     "metadata": {},
     "output_type": "execute_result"
    }
   ],
   "source": [
    "arr + arr"
   ]
  },
  {
   "cell_type": "code",
   "execution_count": 5,
   "metadata": {
    "ExecuteTime": {
     "end_time": "2019-05-31T11:52:42.346981Z",
     "start_time": "2019-05-31T11:52:42.273283Z"
    },
    "hidden": true
   },
   "outputs": [
    {
     "data": {
      "text/plain": [
       "array([0, 0, 0, 0, 0, 0, 0, 0, 0, 0, 0])"
      ]
     },
     "execution_count": 5,
     "metadata": {},
     "output_type": "execute_result"
    }
   ],
   "source": [
    "arr - arr"
   ]
  },
  {
   "cell_type": "code",
   "execution_count": 6,
   "metadata": {
    "ExecuteTime": {
     "end_time": "2019-05-31T11:52:42.427626Z",
     "start_time": "2019-05-31T11:52:42.348975Z"
    },
    "hidden": true
   },
   "outputs": [
    {
     "data": {
      "text/plain": [
       "array([  0,   1,   4,   9,  16,  25,  36,  49,  64,  81, 100])"
      ]
     },
     "execution_count": 6,
     "metadata": {},
     "output_type": "execute_result"
    }
   ],
   "source": [
    "arr*arr"
   ]
  },
  {
   "cell_type": "code",
   "execution_count": 7,
   "metadata": {
    "ExecuteTime": {
     "end_time": "2019-05-31T11:52:42.500227Z",
     "start_time": "2019-05-31T11:52:42.428590Z"
    },
    "hidden": true
   },
   "outputs": [
    {
     "name": "stderr",
     "output_type": "stream",
     "text": [
      "C:\\Users\\bgfar\\Anaconda3\\lib\\site-packages\\ipykernel_launcher.py:1: RuntimeWarning: invalid value encountered in true_divide\n",
      "  \"\"\"Entry point for launching an IPython kernel.\n"
     ]
    },
    {
     "data": {
      "text/plain": [
       "array([nan,  1.,  1.,  1.,  1.,  1.,  1.,  1.,  1.,  1.,  1.])"
      ]
     },
     "execution_count": 7,
     "metadata": {},
     "output_type": "execute_result"
    }
   ],
   "source": [
    "arr/arr"
   ]
  },
  {
   "cell_type": "code",
   "execution_count": 8,
   "metadata": {
    "ExecuteTime": {
     "end_time": "2019-05-31T11:52:42.627187Z",
     "start_time": "2019-05-31T11:52:42.502187Z"
    },
    "hidden": true
   },
   "outputs": [
    {
     "data": {
      "text/plain": [
       "385"
      ]
     },
     "execution_count": 8,
     "metadata": {},
     "output_type": "execute_result"
    }
   ],
   "source": [
    "#Multiplicação matricial\n",
    "np.dot(arr,arr)"
   ]
  },
  {
   "cell_type": "markdown",
   "metadata": {
    "heading_collapsed": true
   },
   "source": [
    "### Reshape\n",
    "\n",
    "Altera a quantidade de linhas e colunas, desde que a matriz resultante permaneça com a mesma quantidade de elemnetos da matriz original.    \n",
    "Reshape (n_linhas, _n_cols)"
   ]
  },
  {
   "cell_type": "code",
   "execution_count": 9,
   "metadata": {
    "ExecuteTime": {
     "end_time": "2019-05-31T11:52:42.698824Z",
     "start_time": "2019-05-31T11:52:42.629222Z"
    },
    "hidden": true
   },
   "outputs": [
    {
     "data": {
      "text/plain": [
       "array([[0.3702565 , 0.46329944, 0.84597346, 0.10132312, 0.07107514],\n",
       "       [0.16058097, 0.45343181, 0.03044026, 0.71604509, 0.37457529],\n",
       "       [0.27912283, 0.16947874, 0.98189935, 0.25789297, 0.37851192],\n",
       "       [0.16259429, 0.5435111 , 0.03650833, 0.79272537, 0.45409806],\n",
       "       [0.59572181, 0.95430452, 0.24167941, 0.47460998, 0.57193993]])"
      ]
     },
     "execution_count": 9,
     "metadata": {},
     "output_type": "execute_result"
    }
   ],
   "source": [
    "arr = np.random.rand(5,5)\n",
    "arr"
   ]
  },
  {
   "cell_type": "code",
   "execution_count": 10,
   "metadata": {
    "ExecuteTime": {
     "end_time": "2019-05-31T11:52:42.756889Z",
     "start_time": "2019-05-31T11:52:42.700783Z"
    },
    "hidden": true
   },
   "outputs": [
    {
     "data": {
      "text/plain": [
       "(1, 25)"
      ]
     },
     "execution_count": 10,
     "metadata": {},
     "output_type": "execute_result"
    }
   ],
   "source": [
    "arr.reshape(1,25).shape"
   ]
  },
  {
   "cell_type": "markdown",
   "metadata": {
    "heading_collapsed": true
   },
   "source": [
    "### Adicionando ou removendo elementos do ndarray"
   ]
  },
  {
   "cell_type": "code",
   "execution_count": 11,
   "metadata": {
    "ExecuteTime": {
     "end_time": "2019-05-31T11:52:42.842605Z",
     "start_time": "2019-05-31T11:52:42.758848Z"
    },
    "hidden": true
   },
   "outputs": [
    {
     "data": {
      "text/plain": [
       "array([0, 1, 2, 3, 4, 5, 6, 7, 8, 9])"
      ]
     },
     "execution_count": 11,
     "metadata": {},
     "output_type": "execute_result"
    }
   ],
   "source": [
    "# Crinado uma nova matriz\n",
    "arr2 = np.arange(0,10)\n",
    "arr2"
   ]
  },
  {
   "cell_type": "markdown",
   "metadata": {
    "hidden": true
   },
   "source": [
    "**Adicionando linhas**   \n",
    "As matrizes devem ter o mesmo número de colunas"
   ]
  },
  {
   "cell_type": "code",
   "execution_count": 12,
   "metadata": {
    "ExecuteTime": {
     "end_time": "2019-05-31T11:52:42.920914Z",
     "start_time": "2019-05-31T11:52:42.844635Z"
    },
    "hidden": true
   },
   "outputs": [
    {
     "data": {
      "text/plain": [
       "array([0.3702565 , 0.46329944, 0.84597346, 0.10132312, 0.07107514,\n",
       "       0.16058097, 0.45343181, 0.03044026, 0.71604509, 0.37457529,\n",
       "       0.27912283, 0.16947874, 0.98189935, 0.25789297, 0.37851192,\n",
       "       0.16259429, 0.5435111 , 0.03650833, 0.79272537, 0.45409806,\n",
       "       0.59572181, 0.95430452, 0.24167941, 0.47460998, 0.57193993,\n",
       "       0.        , 1.        , 2.        , 3.        , 4.        ,\n",
       "       5.        , 6.        , 7.        , 8.        , 9.        ])"
      ]
     },
     "execution_count": 12,
     "metadata": {},
     "output_type": "execute_result"
    }
   ],
   "source": [
    "np.append(arr,arr2)"
   ]
  },
  {
   "cell_type": "markdown",
   "metadata": {
    "hidden": true
   },
   "source": [
    "**Adicionando colunas**   \n",
    "As matrizes devem ter o mesmo número de linhas"
   ]
  },
  {
   "cell_type": "code",
   "execution_count": 13,
   "metadata": {
    "ExecuteTime": {
     "end_time": "2019-05-31T11:52:43.013531Z",
     "start_time": "2019-05-31T11:52:42.922868Z"
    },
    "hidden": true
   },
   "outputs": [],
   "source": [
    "arr2 = arr2.reshape(5,2)"
   ]
  },
  {
   "cell_type": "code",
   "execution_count": 14,
   "metadata": {
    "ExecuteTime": {
     "end_time": "2019-05-31T11:52:43.095148Z",
     "start_time": "2019-05-31T11:52:43.015397Z"
    },
    "hidden": true
   },
   "outputs": [
    {
     "data": {
      "text/plain": [
       "array([[0.3702565 , 0.46329944, 0.84597346, 0.10132312, 0.07107514,\n",
       "        0.        , 1.        ],\n",
       "       [0.16058097, 0.45343181, 0.03044026, 0.71604509, 0.37457529,\n",
       "        2.        , 3.        ],\n",
       "       [0.27912283, 0.16947874, 0.98189935, 0.25789297, 0.37851192,\n",
       "        4.        , 5.        ],\n",
       "       [0.16259429, 0.5435111 , 0.03650833, 0.79272537, 0.45409806,\n",
       "        6.        , 7.        ],\n",
       "       [0.59572181, 0.95430452, 0.24167941, 0.47460998, 0.57193993,\n",
       "        8.        , 9.        ]])"
      ]
     },
     "execution_count": 14,
     "metadata": {},
     "output_type": "execute_result"
    }
   ],
   "source": [
    "np.append(arr,arr2,axis=1)"
   ]
  },
  {
   "cell_type": "markdown",
   "metadata": {
    "hidden": true
   },
   "source": [
    "**Inserindo elementos**\n",
    "\n",
    "1. Inserindo constante"
   ]
  },
  {
   "cell_type": "code",
   "execution_count": 15,
   "metadata": {
    "ExecuteTime": {
     "end_time": "2019-05-31T11:52:43.158853Z",
     "start_time": "2019-05-31T11:52:43.103127Z"
    },
    "hidden": true
   },
   "outputs": [],
   "source": [
    "num = np.array(5)"
   ]
  },
  {
   "cell_type": "code",
   "execution_count": 16,
   "metadata": {
    "ExecuteTime": {
     "end_time": "2019-05-31T11:52:43.223408Z",
     "start_time": "2019-05-31T11:52:43.159848Z"
    },
    "hidden": true
   },
   "outputs": [
    {
     "data": {
      "text/plain": [
       "array([[0.3702565 , 5.        , 0.46329944, 0.84597346, 0.10132312,\n",
       "        0.07107514],\n",
       "       [0.16058097, 5.        , 0.45343181, 0.03044026, 0.71604509,\n",
       "        0.37457529],\n",
       "       [0.27912283, 5.        , 0.16947874, 0.98189935, 0.25789297,\n",
       "        0.37851192],\n",
       "       [0.16259429, 5.        , 0.5435111 , 0.03650833, 0.79272537,\n",
       "        0.45409806],\n",
       "       [0.59572181, 5.        , 0.95430452, 0.24167941, 0.47460998,\n",
       "        0.57193993]])"
      ]
     },
     "execution_count": 16,
     "metadata": {},
     "output_type": "execute_result"
    }
   ],
   "source": [
    "np.insert(arr,1,num, axis=1) #Preenchendo a segunda coluna"
   ]
  },
  {
   "cell_type": "code",
   "execution_count": 17,
   "metadata": {
    "ExecuteTime": {
     "end_time": "2019-05-31T11:52:43.296753Z",
     "start_time": "2019-05-31T11:52:43.226362Z"
    },
    "hidden": true
   },
   "outputs": [
    {
     "data": {
      "text/plain": [
       "array([[0.3702565 , 0.46329944, 0.84597346, 0.10132312, 0.07107514],\n",
       "       [0.16058097, 0.45343181, 0.03044026, 0.71604509, 0.37457529],\n",
       "       [0.27912283, 0.16947874, 0.98189935, 0.25789297, 0.37851192],\n",
       "       [5.        , 5.        , 5.        , 5.        , 5.        ],\n",
       "       [0.16259429, 0.5435111 , 0.03650833, 0.79272537, 0.45409806],\n",
       "       [0.59572181, 0.95430452, 0.24167941, 0.47460998, 0.57193993]])"
      ]
     },
     "execution_count": 17,
     "metadata": {},
     "output_type": "execute_result"
    }
   ],
   "source": [
    "np.insert(arr, 3, num, axis=0) #Preenchendo a quarta linha"
   ]
  },
  {
   "cell_type": "markdown",
   "metadata": {
    "hidden": true
   },
   "source": [
    "2. Inserindo vetor"
   ]
  },
  {
   "cell_type": "code",
   "execution_count": 18,
   "metadata": {
    "ExecuteTime": {
     "end_time": "2019-05-31T11:52:43.367752Z",
     "start_time": "2019-05-31T11:52:43.298792Z"
    },
    "hidden": true
   },
   "outputs": [],
   "source": [
    "num = np.array([1,2,3])"
   ]
  },
  {
   "cell_type": "code",
   "execution_count": 19,
   "metadata": {
    "ExecuteTime": {
     "end_time": "2019-05-31T11:52:43.454942Z",
     "start_time": "2019-05-31T11:52:43.369466Z"
    },
    "hidden": true
   },
   "outputs": [
    {
     "data": {
      "text/plain": [
       "array([0.3702565 , 0.46329944, 0.84597346, 0.10132312, 0.07107514,\n",
       "       0.16058097, 0.45343181, 0.03044026, 0.71604509, 0.37457529,\n",
       "       1.        , 2.        , 3.        , 0.27912283, 0.16947874,\n",
       "       0.98189935, 0.25789297, 0.37851192, 0.16259429, 0.5435111 ,\n",
       "       0.03650833, 0.79272537, 0.45409806, 0.59572181, 0.95430452,\n",
       "       0.24167941, 0.47460998, 0.57193993])"
      ]
     },
     "execution_count": 19,
     "metadata": {},
     "output_type": "execute_result"
    }
   ],
   "source": [
    "# Quando o eixo não é informado, o comando faz um flatten na matrix e insere o vetor no décimo elemento\n",
    "np.insert(arr,10,num)"
   ]
  },
  {
   "cell_type": "code",
   "execution_count": 20,
   "metadata": {
    "ExecuteTime": {
     "end_time": "2019-05-31T11:52:43.542365Z",
     "start_time": "2019-05-31T11:52:43.457936Z"
    },
    "hidden": true
   },
   "outputs": [
    {
     "data": {
      "text/plain": [
       "array([[0.3702565 , 0.46329944, 0.10132312, 0.07107514],\n",
       "       [0.16058097, 0.45343181, 0.71604509, 0.37457529],\n",
       "       [0.27912283, 0.16947874, 0.25789297, 0.37851192],\n",
       "       [0.16259429, 0.5435111 , 0.79272537, 0.45409806],\n",
       "       [0.59572181, 0.95430452, 0.47460998, 0.57193993]])"
      ]
     },
     "execution_count": 20,
     "metadata": {},
     "output_type": "execute_result"
    }
   ],
   "source": [
    "np.delete(arr, 2, axis=1) #deletando a terceira coluna"
   ]
  },
  {
   "cell_type": "markdown",
   "metadata": {
    "ExecuteTime": {
     "end_time": "2019-05-31T00:26:43.539725Z",
     "start_time": "2019-05-31T00:26:43.528752Z"
    }
   },
   "source": [
    "### Principais Atributos e Funções\n",
    "\n",
    "- max()  / argmax()\n",
    "- min()  / argmin()\n",
    "- mean()\n",
    "- std()\n",
    "- ravel()\n",
    "- flatten()\n",
    "- sort()\n",
    "- shuffle()"
   ]
  },
  {
   "cell_type": "code",
   "execution_count": 21,
   "metadata": {
    "ExecuteTime": {
     "end_time": "2019-05-31T11:52:43.614454Z",
     "start_time": "2019-05-31T11:52:43.543399Z"
    }
   },
   "outputs": [
    {
     "data": {
      "text/plain": [
       "0.9818993543878769"
      ]
     },
     "execution_count": 21,
     "metadata": {},
     "output_type": "execute_result"
    }
   ],
   "source": [
    "arr.max()"
   ]
  },
  {
   "cell_type": "code",
   "execution_count": 22,
   "metadata": {
    "ExecuteTime": {
     "end_time": "2019-05-31T11:52:43.753971Z",
     "start_time": "2019-05-31T11:52:43.616410Z"
    }
   },
   "outputs": [
    {
     "data": {
      "text/plain": [
       "12"
      ]
     },
     "execution_count": 22,
     "metadata": {},
     "output_type": "execute_result"
    }
   ],
   "source": [
    "arr.argmax()"
   ]
  },
  {
   "cell_type": "code",
   "execution_count": 23,
   "metadata": {
    "ExecuteTime": {
     "end_time": "2019-05-31T11:52:43.841570Z",
     "start_time": "2019-05-31T11:52:43.755928Z"
    }
   },
   "outputs": [
    {
     "data": {
      "text/plain": [
       "0.03044025746977652"
      ]
     },
     "execution_count": 23,
     "metadata": {},
     "output_type": "execute_result"
    }
   ],
   "source": [
    "arr.min()"
   ]
  },
  {
   "cell_type": "code",
   "execution_count": 24,
   "metadata": {
    "ExecuteTime": {
     "end_time": "2019-05-31T11:52:43.922903Z",
     "start_time": "2019-05-31T11:52:43.844561Z"
    }
   },
   "outputs": [
    {
     "data": {
      "text/plain": [
       "7"
      ]
     },
     "execution_count": 24,
     "metadata": {},
     "output_type": "execute_result"
    }
   ],
   "source": [
    "arr.argmin()"
   ]
  },
  {
   "cell_type": "code",
   "execution_count": 25,
   "metadata": {
    "ExecuteTime": {
     "end_time": "2019-05-31T11:52:44.021746Z",
     "start_time": "2019-05-31T11:52:43.925888Z"
    }
   },
   "outputs": [
    {
     "data": {
      "text/plain": [
       "0.4192639880978748"
      ]
     },
     "execution_count": 25,
     "metadata": {},
     "output_type": "execute_result"
    }
   ],
   "source": [
    "arr.mean()"
   ]
  },
  {
   "cell_type": "code",
   "execution_count": 26,
   "metadata": {
    "ExecuteTime": {
     "end_time": "2019-05-31T11:52:44.102437Z",
     "start_time": "2019-05-31T11:52:44.025731Z"
    }
   },
   "outputs": [
    {
     "data": {
      "text/plain": [
       "0.2748236282622311"
      ]
     },
     "execution_count": 26,
     "metadata": {},
     "output_type": "execute_result"
    }
   ],
   "source": [
    "arr.std()"
   ]
  },
  {
   "cell_type": "markdown",
   "metadata": {},
   "source": [
    "**Diferenças entre ravel () e flatten ()**\n",
    "\n",
    "- ravel ()\n",
    "    - retorna apenas uma visualização do array original\n",
    "    - a modificação no vetor de saída, tambem modifica a matriz original\n",
    "    - ravel () é mais rápido que o flatten () e não ocupa espaço na memória\n",
    "    \n",
    "- flatten ()\n",
    "     - retorna uma cópia da matriz original\n",
    "     - a modificação no vetor de saída não altera a matriz original\n",
    "     - flatten () é mais lento que o ravel () e ocupa espaço na memória"
   ]
  },
  {
   "cell_type": "code",
   "execution_count": 27,
   "metadata": {
    "ExecuteTime": {
     "end_time": "2019-05-31T11:52:44.401677Z",
     "start_time": "2019-05-31T11:52:44.103382Z"
    }
   },
   "outputs": [
    {
     "data": {
      "text/plain": [
       "array([0.3702565 , 0.46329944, 0.84597346, 0.10132312, 0.07107514,\n",
       "       0.16058097, 0.45343181, 0.03044026, 0.71604509, 0.37457529,\n",
       "       0.27912283, 0.16947874, 0.98189935, 0.25789297, 0.37851192,\n",
       "       0.16259429, 0.5435111 , 0.03650833, 0.79272537, 0.45409806,\n",
       "       0.59572181, 0.95430452, 0.24167941, 0.47460998, 0.57193993])"
      ]
     },
     "execution_count": 27,
     "metadata": {},
     "output_type": "execute_result"
    }
   ],
   "source": [
    "arr.ravel()"
   ]
  },
  {
   "cell_type": "code",
   "execution_count": 31,
   "metadata": {
    "ExecuteTime": {
     "end_time": "2019-05-31T11:55:00.564357Z",
     "start_time": "2019-05-31T11:55:00.557380Z"
    }
   },
   "outputs": [
    {
     "data": {
      "text/plain": [
       "array([0.16259429, 0.5435111 , 0.03650833, 0.79272537, 0.45409806,\n",
       "       0.16058097, 0.45343181, 0.03044026, 0.71604509, 0.37457529,\n",
       "       0.3702565 , 0.46329944, 0.84597346, 0.10132312, 0.07107514,\n",
       "       0.27912283, 0.16947874, 0.98189935, 0.25789297, 0.37851192,\n",
       "       0.59572181, 0.95430452, 0.24167941, 0.47460998, 0.57193993])"
      ]
     },
     "execution_count": 31,
     "metadata": {},
     "output_type": "execute_result"
    }
   ],
   "source": [
    "arr.flatten()"
   ]
  },
  {
   "cell_type": "markdown",
   "metadata": {},
   "source": [
    "**Ordenação**\n",
    "\n",
    "A ordenação de um ndarray pode ser feita de três formas utilizando o método **sort ()**:\n",
    "    1. axis = None  Transforma a matriz em um vetor e ordena os elementos no menor para o maior\n",
    "    2. axis = 0     Ordena as colunas do menor para o maior\n",
    "    3. axis = 1     Ordena as linhas do menor para o maior"
   ]
  },
  {
   "cell_type": "code",
   "execution_count": 33,
   "metadata": {
    "ExecuteTime": {
     "end_time": "2019-05-31T11:58:40.198878Z",
     "start_time": "2019-05-31T11:58:40.192859Z"
    }
   },
   "outputs": [
    {
     "data": {
      "text/plain": [
       "array([[29, 21, 97, 64, 35],\n",
       "       [85, 80, 53, 35, 73],\n",
       "       [83, 12, 44, 60, 20],\n",
       "       [54, 41, 85, 10, 73],\n",
       "       [ 0, 55,  6, 67, 47]])"
      ]
     },
     "execution_count": 33,
     "metadata": {},
     "output_type": "execute_result"
    }
   ],
   "source": [
    "arr3 = np.random.randint(100,size=(5,5))\n",
    "arr3"
   ]
  },
  {
   "cell_type": "code",
   "execution_count": 36,
   "metadata": {
    "ExecuteTime": {
     "end_time": "2019-05-31T11:59:21.863029Z",
     "start_time": "2019-05-31T11:59:21.859040Z"
    }
   },
   "outputs": [
    {
     "data": {
      "text/plain": [
       "array([ 0,  6, 10, 12, 20, 21, 29, 35, 35, 41, 44, 47, 53, 54, 55, 60, 64,\n",
       "       67, 73, 73, 80, 83, 85, 85, 97])"
      ]
     },
     "execution_count": 36,
     "metadata": {},
     "output_type": "execute_result"
    }
   ],
   "source": [
    "np.sort(arr3, axis=None)"
   ]
  },
  {
   "cell_type": "code",
   "execution_count": 37,
   "metadata": {
    "ExecuteTime": {
     "end_time": "2019-05-31T11:59:34.571680Z",
     "start_time": "2019-05-31T11:59:34.567710Z"
    }
   },
   "outputs": [
    {
     "data": {
      "text/plain": [
       "array([[ 0, 12,  6, 10, 20],\n",
       "       [29, 21, 44, 35, 35],\n",
       "       [54, 41, 53, 60, 47],\n",
       "       [83, 55, 85, 64, 73],\n",
       "       [85, 80, 97, 67, 73]])"
      ]
     },
     "execution_count": 37,
     "metadata": {},
     "output_type": "execute_result"
    }
   ],
   "source": [
    "np.sort(arr3, axis=0)"
   ]
  },
  {
   "cell_type": "code",
   "execution_count": 38,
   "metadata": {
    "ExecuteTime": {
     "end_time": "2019-05-31T12:00:26.541501Z",
     "start_time": "2019-05-31T12:00:26.536552Z"
    }
   },
   "outputs": [
    {
     "data": {
      "text/plain": [
       "array([[21, 29, 35, 64, 97],\n",
       "       [35, 53, 73, 80, 85],\n",
       "       [12, 20, 44, 60, 83],\n",
       "       [10, 41, 54, 73, 85],\n",
       "       [ 0,  6, 47, 55, 67]])"
      ]
     },
     "execution_count": 38,
     "metadata": {},
     "output_type": "execute_result"
    }
   ],
   "source": [
    "np.sort(arr3, axis=1)"
   ]
  },
  {
   "cell_type": "markdown",
   "metadata": {},
   "source": [
    "**Shuffle ()**\n",
    "\n",
    "O método shuffle () realiza um embaralhamento dos elementos ao longo do primeiro eixo de uma matriz multidimensional"
   ]
  },
  {
   "cell_type": "code",
   "execution_count": 39,
   "metadata": {
    "ExecuteTime": {
     "end_time": "2019-05-31T12:05:43.752486Z",
     "start_time": "2019-05-31T12:05:43.746537Z"
    }
   },
   "outputs": [
    {
     "data": {
      "text/plain": [
       "array([[ 0,  6, 10, 12, 20],\n",
       "       [21, 29, 35, 35, 41],\n",
       "       [44, 47, 53, 54, 55],\n",
       "       [60, 64, 67, 73, 73],\n",
       "       [80, 83, 85, 85, 97]])"
      ]
     },
     "execution_count": 39,
     "metadata": {},
     "output_type": "execute_result"
    }
   ],
   "source": [
    "arr3_sort = np.sort(arr3, axis=None).reshape(5,5)\n",
    "arr3_sort"
   ]
  },
  {
   "cell_type": "code",
   "execution_count": 52,
   "metadata": {
    "ExecuteTime": {
     "end_time": "2019-05-31T12:07:44.415965Z",
     "start_time": "2019-05-31T12:07:44.410980Z"
    }
   },
   "outputs": [],
   "source": [
    "np.random.shuffle(arr3_sort)"
   ]
  },
  {
   "cell_type": "code",
   "execution_count": 53,
   "metadata": {
    "ExecuteTime": {
     "end_time": "2019-05-31T12:07:46.439922Z",
     "start_time": "2019-05-31T12:07:46.434934Z"
    }
   },
   "outputs": [
    {
     "data": {
      "text/plain": [
       "array([[ 0,  6, 10, 12, 20],\n",
       "       [80, 83, 85, 85, 97],\n",
       "       [60, 64, 67, 73, 73],\n",
       "       [44, 47, 53, 54, 55],\n",
       "       [21, 29, 35, 35, 41]])"
      ]
     },
     "execution_count": 53,
     "metadata": {},
     "output_type": "execute_result"
    }
   ],
   "source": [
    "arr3_sort"
   ]
  },
  {
   "cell_type": "code",
   "execution_count": null,
   "metadata": {},
   "outputs": [],
   "source": []
  }
 ],
 "metadata": {
  "kernelspec": {
   "display_name": "Python 3",
   "language": "python",
   "name": "python3"
  },
  "language_info": {
   "codemirror_mode": {
    "name": "ipython",
    "version": 3
   },
   "file_extension": ".py",
   "mimetype": "text/x-python",
   "name": "python",
   "nbconvert_exporter": "python",
   "pygments_lexer": "ipython3",
   "version": "3.7.0"
  },
  "toc": {
   "base_numbering": 1,
   "nav_menu": {},
   "number_sections": true,
   "sideBar": true,
   "skip_h1_title": false,
   "title_cell": "Table of Contents",
   "title_sidebar": "Contents",
   "toc_cell": false,
   "toc_position": {},
   "toc_section_display": true,
   "toc_window_display": false
  }
 },
 "nbformat": 4,
 "nbformat_minor": 2
}
