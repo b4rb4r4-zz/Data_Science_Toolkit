{
 "cells": [
  {
   "cell_type": "markdown",
   "metadata": {},
   "source": [
    "# Tutorial Numpy"
   ]
  },
  {
   "cell_type": "markdown",
   "metadata": {},
   "source": [
    "## Este tutorial compreende:\n",
    "\n",
    "- Criação de numpy arrays\n",
    "- Indexação\n",
    "- Atribuição e transmissão\n",
    "- Principais métodos \n",
    "- Operações com arrays\n",
    "- Alterando dimensões\n",
    "- Inserindo elementos\n"
   ]
  },
  {
   "cell_type": "markdown",
   "metadata": {},
   "source": [
    "**Importando Biblioteca**"
   ]
  },
  {
   "cell_type": "code",
   "execution_count": 2,
   "metadata": {
    "ExecuteTime": {
     "end_time": "2019-05-29T17:34:34.892854Z",
     "start_time": "2019-05-29T17:34:32.335849Z"
    }
   },
   "outputs": [],
   "source": [
    "import numpy as np"
   ]
  },
  {
   "cell_type": "markdown",
   "metadata": {
    "heading_collapsed": true
   },
   "source": [
    "### Criação de numpy arrays\n",
    "\n",
    "**Método np.arange()**\n",
    "\n",
    "Retorna um numpy array com elementos igualmente espaçados dentro do intervalo especificado.    \n",
    "É possível criar diferentes tipos de numpy array, como float, 'int64', 'int16', etc..."
   ]
  },
  {
   "cell_type": "code",
   "execution_count": 9,
   "metadata": {
    "ExecuteTime": {
     "end_time": "2019-05-29T17:42:26.325248Z",
     "start_time": "2019-05-29T17:42:26.315323Z"
    },
    "hidden": true
   },
   "outputs": [
    {
     "data": {
      "text/plain": [
       "array([0, 1, 2, 3, 4, 5, 6, 7, 8, 9])"
      ]
     },
     "execution_count": 9,
     "metadata": {},
     "output_type": "execute_result"
    }
   ],
   "source": [
    "ar = np.arange(0,10)\n",
    "ar"
   ]
  },
  {
   "cell_type": "markdown",
   "metadata": {
    "hidden": true
   },
   "source": [
    "**Método np.linspace()**\n",
    "\n",
    "Retorna um numpy array com a quantidade de elementos descritos no último parâmetro"
   ]
  },
  {
   "cell_type": "code",
   "execution_count": 10,
   "metadata": {
    "ExecuteTime": {
     "end_time": "2019-05-29T17:44:06.769470Z",
     "start_time": "2019-05-29T17:44:06.764483Z"
    },
    "hidden": true
   },
   "outputs": [
    {
     "data": {
      "text/plain": [
       "array([ 0. ,  7.5, 15. ])"
      ]
     },
     "execution_count": 10,
     "metadata": {},
     "output_type": "execute_result"
    }
   ],
   "source": [
    "ar2 = np.linspace(0,15,3)\n",
    "ar2"
   ]
  },
  {
   "cell_type": "markdown",
   "metadata": {
    "hidden": true
   },
   "source": [
    "**Método np.zeros()**\n",
    "\n",
    "Cria uma matriz de zeros. O primeiro parâmetro é a quantidade de linhas e o segundo a quantidade de colunas da matriz."
   ]
  },
  {
   "cell_type": "code",
   "execution_count": 12,
   "metadata": {
    "ExecuteTime": {
     "end_time": "2019-05-29T17:49:02.173214Z",
     "start_time": "2019-05-29T17:49:02.168228Z"
    },
    "hidden": true
   },
   "outputs": [
    {
     "data": {
      "text/plain": [
       "array([[0., 0., 0., 0.],\n",
       "       [0., 0., 0., 0.],\n",
       "       [0., 0., 0., 0.]])"
      ]
     },
     "execution_count": 12,
     "metadata": {},
     "output_type": "execute_result"
    }
   ],
   "source": [
    "np.zeros((3,4))"
   ]
  },
  {
   "cell_type": "markdown",
   "metadata": {
    "hidden": true
   },
   "source": [
    "**Método np.ones()**\n",
    "\n",
    "Cria uma matriz de uns. O primeiro parâmetro é a quantidade de linhas e o segundo a quantidade de colunas da matriz.   \n",
    "Ps.: A partir da matriz de uns é possível criar uma matriz de qualquer outro número real."
   ]
  },
  {
   "cell_type": "code",
   "execution_count": 16,
   "metadata": {
    "ExecuteTime": {
     "end_time": "2019-05-29T17:51:24.930913Z",
     "start_time": "2019-05-29T17:51:24.925928Z"
    },
    "hidden": true
   },
   "outputs": [
    {
     "data": {
      "text/plain": [
       "array([[1., 1., 1.],\n",
       "       [1., 1., 1.],\n",
       "       [1., 1., 1.],\n",
       "       [1., 1., 1.]])"
      ]
     },
     "execution_count": 16,
     "metadata": {},
     "output_type": "execute_result"
    }
   ],
   "source": [
    "np.ones((4,3))"
   ]
  },
  {
   "cell_type": "code",
   "execution_count": 23,
   "metadata": {
    "ExecuteTime": {
     "end_time": "2019-05-29T18:21:02.072315Z",
     "start_time": "2019-05-29T18:21:02.066332Z"
    },
    "hidden": true
   },
   "outputs": [
    {
     "data": {
      "text/plain": [
       "array([[8., 8., 8., 8., 8.],\n",
       "       [8., 8., 8., 8., 8.],\n",
       "       [8., 8., 8., 8., 8.]])"
      ]
     },
     "execution_count": 23,
     "metadata": {},
     "output_type": "execute_result"
    }
   ],
   "source": [
    "np.ones((3,5))*8"
   ]
  },
  {
   "cell_type": "markdown",
   "metadata": {
    "hidden": true
   },
   "source": [
    "**Criando uma matriz identidade**"
   ]
  },
  {
   "cell_type": "code",
   "execution_count": 24,
   "metadata": {
    "ExecuteTime": {
     "end_time": "2019-05-29T18:21:31.542992Z",
     "start_time": "2019-05-29T18:21:31.538059Z"
    },
    "hidden": true
   },
   "outputs": [
    {
     "data": {
      "text/plain": [
       "array([[1., 0., 0.],\n",
       "       [0., 1., 0.],\n",
       "       [0., 0., 1.]])"
      ]
     },
     "execution_count": 24,
     "metadata": {},
     "output_type": "execute_result"
    }
   ],
   "source": [
    "np.eye(3)"
   ]
  },
  {
   "cell_type": "markdown",
   "metadata": {
    "hidden": true
   },
   "source": [
    "**Criando o seu próprio Array**"
   ]
  },
  {
   "cell_type": "code",
   "execution_count": 19,
   "metadata": {
    "ExecuteTime": {
     "end_time": "2019-05-29T18:17:30.900144Z",
     "start_time": "2019-05-29T18:17:30.897150Z"
    },
    "hidden": true
   },
   "outputs": [],
   "source": [
    "my_array = np.array([[4,6,5],[7,9,10],[1,2,3]])"
   ]
  },
  {
   "cell_type": "code",
   "execution_count": 20,
   "metadata": {
    "ExecuteTime": {
     "end_time": "2019-05-29T18:17:37.360484Z",
     "start_time": "2019-05-29T18:17:37.356493Z"
    },
    "hidden": true
   },
   "outputs": [
    {
     "data": {
      "text/plain": [
       "array([[ 4,  6,  5],\n",
       "       [ 7,  9, 10],\n",
       "       [ 1,  2,  3]])"
      ]
     },
     "execution_count": 20,
     "metadata": {},
     "output_type": "execute_result"
    }
   ],
   "source": [
    "my_array"
   ]
  },
  {
   "cell_type": "markdown",
   "metadata": {
    "hidden": true
   },
   "source": [
    "**Criando um array a patir de uma lista**"
   ]
  },
  {
   "cell_type": "code",
   "execution_count": 21,
   "metadata": {
    "ExecuteTime": {
     "end_time": "2019-05-29T18:19:10.694068Z",
     "start_time": "2019-05-29T18:19:10.690079Z"
    },
    "hidden": true
   },
   "outputs": [],
   "source": [
    "my_list = [1,3,5,9,7,4]\n",
    "\n",
    "my_array_ = np.array(my_list)"
   ]
  },
  {
   "cell_type": "code",
   "execution_count": 25,
   "metadata": {
    "ExecuteTime": {
     "end_time": "2019-05-29T18:25:50.221052Z",
     "start_time": "2019-05-29T18:25:50.217061Z"
    },
    "hidden": true
   },
   "outputs": [
    {
     "data": {
      "text/plain": [
       "array([1, 3, 5, 9, 7, 4])"
      ]
     },
     "execution_count": 25,
     "metadata": {},
     "output_type": "execute_result"
    }
   ],
   "source": [
    "my_array_"
   ]
  },
  {
   "cell_type": "markdown",
   "metadata": {
    "hidden": true
   },
   "source": [
    "**Criação de arrays randômicos**"
   ]
  },
  {
   "cell_type": "markdown",
   "metadata": {
    "hidden": true
   },
   "source": [
    "**Método Rand**\n",
    "\n",
    "Cria uma matriz com amostras aleatórias em distribuição uniforme sobre [0,1)."
   ]
  },
  {
   "cell_type": "code",
   "execution_count": 26,
   "metadata": {
    "ExecuteTime": {
     "end_time": "2019-05-29T18:30:26.450089Z",
     "start_time": "2019-05-29T18:30:26.444102Z"
    },
    "hidden": true
   },
   "outputs": [
    {
     "data": {
      "text/plain": [
       "array([[0.55397742, 0.34344999, 0.04556172],\n",
       "       [0.76477971, 0.49737612, 0.77964878],\n",
       "       [0.18171235, 0.37538487, 0.84793906]])"
      ]
     },
     "execution_count": 26,
     "metadata": {},
     "output_type": "execute_result"
    }
   ],
   "source": [
    "np.random.rand(3,3)"
   ]
  },
  {
   "cell_type": "markdown",
   "metadata": {
    "hidden": true
   },
   "source": [
    "**Método Randn**\n",
    "\n",
    "Cria um matriz de distribuição normal."
   ]
  },
  {
   "cell_type": "code",
   "execution_count": 27,
   "metadata": {
    "ExecuteTime": {
     "end_time": "2019-05-29T18:33:39.475639Z",
     "start_time": "2019-05-29T18:33:39.470652Z"
    },
    "hidden": true
   },
   "outputs": [
    {
     "data": {
      "text/plain": [
       "array([[ 0.53157939,  1.90977831, -0.38423145],\n",
       "       [-1.34852077, -2.32237459, -0.16395453],\n",
       "       [ 0.88155652, -0.09132238,  0.76232368]])"
      ]
     },
     "execution_count": 27,
     "metadata": {},
     "output_type": "execute_result"
    }
   ],
   "source": [
    "np.random.randn(3,3)"
   ]
  },
  {
   "cell_type": "markdown",
   "metadata": {
    "hidden": true
   },
   "source": [
    "**Método Randint**\n",
    "\n",
    "Dado um intervalo, o método retorna um inteiro aleatório a partir do low (inclusivo) e do  high (exclusivo)."
   ]
  },
  {
   "cell_type": "code",
   "execution_count": 29,
   "metadata": {
    "ExecuteTime": {
     "end_time": "2019-05-29T18:43:26.670911Z",
     "start_time": "2019-05-29T18:43:26.666931Z"
    },
    "hidden": true
   },
   "outputs": [
    {
     "data": {
      "text/plain": [
       "69"
      ]
     },
     "execution_count": 29,
     "metadata": {},
     "output_type": "execute_result"
    }
   ],
   "source": [
    "np.random.randint(5,90)"
   ]
  },
  {
   "cell_type": "code",
   "execution_count": 39,
   "metadata": {
    "ExecuteTime": {
     "end_time": "2019-05-29T20:52:49.607560Z",
     "start_time": "2019-05-29T20:52:49.599582Z"
    },
    "hidden": true
   },
   "outputs": [
    {
     "data": {
      "text/plain": [
       "array([[31, 66, 10,  9],\n",
       "       [69, 90, 17, 97],\n",
       "       [22, 56, 81, 39],\n",
       "       [80, 12, 79, 30]])"
      ]
     },
     "execution_count": 39,
     "metadata": {},
     "output_type": "execute_result"
    }
   ],
   "source": [
    "np.random.randint(9,100, size=(4,4))"
   ]
  },
  {
   "cell_type": "markdown",
   "metadata": {
    "ExecuteTime": {
     "end_time": "2019-05-29T18:52:20.021890Z",
     "start_time": "2019-05-29T18:52:20.017902Z"
    },
    "hidden": true
   },
   "source": [
    "**Método Seed**\n",
    "\n",
    "Cria uma matriz de números aleatórios fixa. Este comando é utilizado quando é necessário um conjunto de valores aleatórios fixo."
   ]
  },
  {
   "cell_type": "code",
   "execution_count": 66,
   "metadata": {
    "ExecuteTime": {
     "end_time": "2019-05-29T20:53:05.653792Z",
     "start_time": "2019-05-29T20:53:05.646812Z"
    },
    "hidden": true
   },
   "outputs": [
    {
     "data": {
      "text/plain": [
       "array([[46, 21, 81, 18],\n",
       "       [84, 14, 88, 73],\n",
       "       [25, 10, 85, 80],\n",
       "       [15, 34, 59, 29]])"
      ]
     },
     "execution_count": 66,
     "metadata": {},
     "output_type": "execute_result"
    }
   ],
   "source": [
    "np.random.seed(1)\n",
    "np.random.randint(9,100, size=(4,4))"
   ]
  },
  {
   "cell_type": "markdown",
   "metadata": {},
   "source": [
    "### Indexação\n",
    "\n",
    "Indexação é a forma como um ou mais elementos são selecionados dentro de uma matriz de arrays."
   ]
  },
  {
   "cell_type": "code",
   "execution_count": 69,
   "metadata": {
    "ExecuteTime": {
     "end_time": "2019-05-29T21:03:28.820685Z",
     "start_time": "2019-05-29T21:03:28.815699Z"
    }
   },
   "outputs": [],
   "source": [
    "arr = np.array([1,2,3,4,5,6,7,8,9])"
   ]
  },
  {
   "cell_type": "code",
   "execution_count": 71,
   "metadata": {
    "ExecuteTime": {
     "end_time": "2019-05-29T21:03:37.301506Z",
     "start_time": "2019-05-29T21:03:37.297516Z"
    }
   },
   "outputs": [
    {
     "data": {
      "text/plain": [
       "array([1, 2, 3, 4, 5, 6, 7, 8, 9])"
      ]
     },
     "execution_count": 71,
     "metadata": {},
     "output_type": "execute_result"
    }
   ],
   "source": [
    "arr"
   ]
  },
  {
   "cell_type": "markdown",
   "metadata": {
    "ExecuteTime": {
     "end_time": "2019-05-29T21:04:14.909498Z",
     "start_time": "2019-05-29T21:04:14.902559Z"
    }
   },
   "source": [
    "A indexação é em um array unidimensional feita entre colchetes, em que o número corresponde a posição do elemento.   \n",
    "A primeira posição corresponde ao índice 0."
   ]
  },
  {
   "cell_type": "code",
   "execution_count": 73,
   "metadata": {
    "ExecuteTime": {
     "end_time": "2019-05-29T21:05:33.252409Z",
     "start_time": "2019-05-29T21:05:33.245472Z"
    }
   },
   "outputs": [
    {
     "data": {
      "text/plain": [
       "6"
      ]
     },
     "execution_count": 73,
     "metadata": {},
     "output_type": "execute_result"
    }
   ],
   "source": [
    "arr[5]"
   ]
  },
  {
   "cell_type": "code",
   "execution_count": 76,
   "metadata": {
    "ExecuteTime": {
     "end_time": "2019-05-29T21:36:29.561020Z",
     "start_time": "2019-05-29T21:36:29.557022Z"
    }
   },
   "outputs": [],
   "source": [
    "arr2 = np.array([[1,2,3],[4,5,6],[7,8,9],[10,11,12]])"
   ]
  },
  {
   "cell_type": "code",
   "execution_count": 112,
   "metadata": {
    "ExecuteTime": {
     "end_time": "2019-05-29T22:11:44.485180Z",
     "start_time": "2019-05-29T22:11:44.458252Z"
    }
   },
   "outputs": [
    {
     "data": {
      "text/plain": [
       "array([[ 1,  2,  3],\n",
       "       [ 4,  5,  6],\n",
       "       [ 7,  8,  9],\n",
       "       [10, 11, 12]])"
      ]
     },
     "execution_count": 112,
     "metadata": {},
     "output_type": "execute_result"
    }
   ],
   "source": [
    "arr2"
   ]
  },
  {
   "cell_type": "markdown",
   "metadata": {
    "ExecuteTime": {
     "end_time": "2019-05-29T22:12:16.465272Z",
     "start_time": "2019-05-29T22:12:16.446324Z"
    }
   },
   "source": [
    "Selecionando apenas um elemento da matriz"
   ]
  },
  {
   "cell_type": "code",
   "execution_count": 114,
   "metadata": {
    "ExecuteTime": {
     "end_time": "2019-05-29T22:13:38.661831Z",
     "start_time": "2019-05-29T22:13:38.656840Z"
    }
   },
   "outputs": [
    {
     "data": {
      "text/plain": [
       "8"
      ]
     },
     "execution_count": 114,
     "metadata": {},
     "output_type": "execute_result"
    }
   ],
   "source": [
    "arr2[2][1]"
   ]
  },
  {
   "cell_type": "markdown",
   "metadata": {},
   "source": [
    "Para selecionar um elemento de uma matriz, é necessário informar a posição da linha e da coluna."
   ]
  },
  {
   "cell_type": "code",
   "execution_count": 78,
   "metadata": {
    "ExecuteTime": {
     "end_time": "2019-05-29T21:36:32.092247Z",
     "start_time": "2019-05-29T21:36:32.087261Z"
    }
   },
   "outputs": [
    {
     "data": {
      "text/plain": [
       "8"
      ]
     },
     "execution_count": 78,
     "metadata": {},
     "output_type": "execute_result"
    }
   ],
   "source": [
    "arr2[2,1]"
   ]
  },
  {
   "cell_type": "markdown",
   "metadata": {
    "ExecuteTime": {
     "end_time": "2019-05-29T21:37:48.842145Z",
     "start_time": "2019-05-29T21:37:48.837158Z"
    }
   },
   "source": [
    "Para selecionar mais de um elemento é preciso informar o intervalo."
   ]
  },
  {
   "cell_type": "code",
   "execution_count": 102,
   "metadata": {
    "ExecuteTime": {
     "end_time": "2019-05-29T22:08:25.061230Z",
     "start_time": "2019-05-29T22:08:25.053282Z"
    }
   },
   "outputs": [
    {
     "data": {
      "text/plain": [
       "array([[ 1,  7,  3,  5,  9, 11],\n",
       "       [ 2,  4,  6,  8, 10, 12],\n",
       "       [ 1,  2,  3,  5,  7, 11],\n",
       "       [13, 17, 19, 23, 29, 31]])"
      ]
     },
     "execution_count": 102,
     "metadata": {},
     "output_type": "execute_result"
    }
   ],
   "source": [
    "arr3 = np.array([[1,7,3,5,9,11],[2,4,6,8,10,12], [1,2,3,5,7,11],[13,17,19,23,29,31]])\n",
    "arr3"
   ]
  },
  {
   "cell_type": "code",
   "execution_count": 81,
   "metadata": {
    "ExecuteTime": {
     "end_time": "2019-05-29T21:41:07.820405Z",
     "start_time": "2019-05-29T21:41:07.812479Z"
    }
   },
   "outputs": [
    {
     "data": {
      "text/plain": [
       "array([[6, 8],\n",
       "       [3, 5]])"
      ]
     },
     "execution_count": 81,
     "metadata": {},
     "output_type": "execute_result"
    }
   ],
   "source": [
    "arr3[1:3,2:4]"
   ]
  },
  {
   "cell_type": "markdown",
   "metadata": {},
   "source": [
    "Para selecionar todos os elementos de um eixo, basta utilizar    <span style=\"color:red\">**:**</span> "
   ]
  },
  {
   "cell_type": "code",
   "execution_count": 82,
   "metadata": {
    "ExecuteTime": {
     "end_time": "2019-05-29T21:45:28.072718Z",
     "start_time": "2019-05-29T21:45:28.067694Z"
    }
   },
   "outputs": [
    {
     "data": {
      "text/plain": [
       "array([[ 1,  7,  3,  5],\n",
       "       [ 2,  4,  6,  8],\n",
       "       [ 1,  2,  3,  5],\n",
       "       [13, 17, 19, 23]])"
      ]
     },
     "execution_count": 82,
     "metadata": {},
     "output_type": "execute_result"
    }
   ],
   "source": [
    "arr3[:,:4]"
   ]
  },
  {
   "cell_type": "code",
   "execution_count": 83,
   "metadata": {
    "ExecuteTime": {
     "end_time": "2019-05-29T21:46:02.400167Z",
     "start_time": "2019-05-29T21:46:02.394226Z"
    }
   },
   "outputs": [
    {
     "data": {
      "text/plain": [
       "array([[ 1,  7,  3,  5,  9, 11],\n",
       "       [ 2,  4,  6,  8, 10, 12],\n",
       "       [ 1,  2,  3,  5,  7, 11],\n",
       "       [13, 17, 19, 23, 29, 31]])"
      ]
     },
     "execution_count": 83,
     "metadata": {},
     "output_type": "execute_result"
    }
   ],
   "source": [
    "# Selecionando toda a matriz\n",
    "arr3[:]"
   ]
  },
  {
   "cell_type": "markdown",
   "metadata": {
    "ExecuteTime": {
     "end_time": "2019-05-29T21:56:24.972121Z",
     "start_time": "2019-05-29T21:56:24.968131Z"
    },
    "heading_collapsed": true
   },
   "source": [
    "### Atribuição e Transmissão"
   ]
  },
  {
   "cell_type": "code",
   "execution_count": 103,
   "metadata": {
    "ExecuteTime": {
     "end_time": "2019-05-29T22:08:29.992248Z",
     "start_time": "2019-05-29T22:08:29.988261Z"
    },
    "hidden": true
   },
   "outputs": [
    {
     "data": {
      "text/plain": [
       "array([[ 1,  7,  3,  5,  9, 11],\n",
       "       [ 2,  4,  6,  8, 10, 12],\n",
       "       [ 1,  2,  3,  5,  7, 11],\n",
       "       [13, 17, 19, 23, 29, 31]])"
      ]
     },
     "execution_count": 103,
     "metadata": {},
     "output_type": "execute_result"
    }
   ],
   "source": [
    "arr3"
   ]
  },
  {
   "cell_type": "code",
   "execution_count": 104,
   "metadata": {
    "ExecuteTime": {
     "end_time": "2019-05-29T22:08:32.777808Z",
     "start_time": "2019-05-29T22:08:32.772820Z"
    },
    "hidden": true
   },
   "outputs": [
    {
     "data": {
      "text/plain": [
       "array([[100, 100, 100,   5,   9,  11],\n",
       "       [100, 100, 100,   8,  10,  12],\n",
       "       [100, 100, 100,   5,   7,  11],\n",
       "       [ 13,  17,  19,  23,  29,  31]])"
      ]
     },
     "execution_count": 104,
     "metadata": {},
     "output_type": "execute_result"
    }
   ],
   "source": [
    "arr3[:3,:3] = 100\n",
    "arr3"
   ]
  },
  {
   "cell_type": "code",
   "execution_count": 105,
   "metadata": {
    "ExecuteTime": {
     "end_time": "2019-05-29T22:08:35.291512Z",
     "start_time": "2019-05-29T22:08:35.284533Z"
    },
    "hidden": true
   },
   "outputs": [
    {
     "data": {
      "text/plain": [
       "array([[ 5,  7],\n",
       "       [23, 29]])"
      ]
     },
     "execution_count": 105,
     "metadata": {},
     "output_type": "execute_result"
    }
   ],
   "source": [
    "slice_arr3 = arr3[2:,3:5]\n",
    "slice_arr3"
   ]
  },
  {
   "cell_type": "code",
   "execution_count": 106,
   "metadata": {
    "ExecuteTime": {
     "end_time": "2019-05-29T22:08:37.032652Z",
     "start_time": "2019-05-29T22:08:37.028663Z"
    },
    "hidden": true
   },
   "outputs": [],
   "source": [
    "slice_arr3[:] = 222"
   ]
  },
  {
   "cell_type": "code",
   "execution_count": 107,
   "metadata": {
    "ExecuteTime": {
     "end_time": "2019-05-29T22:08:38.971808Z",
     "start_time": "2019-05-29T22:08:38.964827Z"
    },
    "hidden": true
   },
   "outputs": [
    {
     "data": {
      "text/plain": [
       "array([[222, 222],\n",
       "       [222, 222]])"
      ]
     },
     "execution_count": 107,
     "metadata": {},
     "output_type": "execute_result"
    }
   ],
   "source": [
    "slice_arr3"
   ]
  },
  {
   "cell_type": "code",
   "execution_count": 108,
   "metadata": {
    "ExecuteTime": {
     "end_time": "2019-05-29T22:08:40.809655Z",
     "start_time": "2019-05-29T22:08:40.804666Z"
    },
    "hidden": true
   },
   "outputs": [
    {
     "data": {
      "text/plain": [
       "array([[100, 100, 100,   5,   9,  11],\n",
       "       [100, 100, 100,   8,  10,  12],\n",
       "       [100, 100, 100, 222, 222,  11],\n",
       "       [ 13,  17,  19, 222, 222,  31]])"
      ]
     },
     "execution_count": 108,
     "metadata": {},
     "output_type": "execute_result"
    }
   ],
   "source": [
    "arr3"
   ]
  },
  {
   "cell_type": "markdown",
   "metadata": {
    "hidden": true
   },
   "source": [
    "O valor alterado da fatia (slice_arr3) tambem está alterando a matriz original. Para impedir isso é utilizado o método **.copy()**"
   ]
  },
  {
   "cell_type": "code",
   "execution_count": 109,
   "metadata": {
    "ExecuteTime": {
     "end_time": "2019-05-29T22:08:50.779575Z",
     "start_time": "2019-05-29T22:08:50.772595Z"
    },
    "hidden": true
   },
   "outputs": [
    {
     "data": {
      "text/plain": [
       "array([[100, 100,   5],\n",
       "       [100, 100,   8],\n",
       "       [100, 100, 222],\n",
       "       [ 17,  19, 222]])"
      ]
     },
     "execution_count": 109,
     "metadata": {},
     "output_type": "execute_result"
    }
   ],
   "source": [
    "arr_copy = arr3[:,1:4].copy()\n",
    "arr_copy"
   ]
  },
  {
   "cell_type": "code",
   "execution_count": 110,
   "metadata": {
    "ExecuteTime": {
     "end_time": "2019-05-29T22:08:53.348342Z",
     "start_time": "2019-05-29T22:08:53.340404Z"
    },
    "hidden": true
   },
   "outputs": [
    {
     "data": {
      "text/plain": [
       "array([[55, 55, 55],\n",
       "       [55, 55, 55],\n",
       "       [55, 55, 55],\n",
       "       [55, 55, 55]])"
      ]
     },
     "execution_count": 110,
     "metadata": {},
     "output_type": "execute_result"
    }
   ],
   "source": [
    "arr_copy[:] = 55\n",
    "arr_copy"
   ]
  },
  {
   "cell_type": "code",
   "execution_count": 111,
   "metadata": {
    "ExecuteTime": {
     "end_time": "2019-05-29T22:08:56.643856Z",
     "start_time": "2019-05-29T22:08:56.636875Z"
    },
    "hidden": true
   },
   "outputs": [
    {
     "data": {
      "text/plain": [
       "array([[100, 100, 100,   5,   9,  11],\n",
       "       [100, 100, 100,   8,  10,  12],\n",
       "       [100, 100, 100, 222, 222,  11],\n",
       "       [ 13,  17,  19, 222, 222,  31]])"
      ]
     },
     "execution_count": 111,
     "metadata": {},
     "output_type": "execute_result"
    }
   ],
   "source": [
    "arr3"
   ]
  },
  {
   "cell_type": "code",
   "execution_count": null,
   "metadata": {
    "hidden": true
   },
   "outputs": [],
   "source": []
  }
 ],
 "metadata": {
  "kernelspec": {
   "display_name": "Python 3",
   "language": "python",
   "name": "python3"
  },
  "language_info": {
   "codemirror_mode": {
    "name": "ipython",
    "version": 3
   },
   "file_extension": ".py",
   "mimetype": "text/x-python",
   "name": "python",
   "nbconvert_exporter": "python",
   "pygments_lexer": "ipython3",
   "version": "3.7.0"
  },
  "toc": {
   "base_numbering": 1,
   "nav_menu": {},
   "number_sections": true,
   "sideBar": true,
   "skip_h1_title": false,
   "title_cell": "Table of Contents",
   "title_sidebar": "Contents",
   "toc_cell": false,
   "toc_position": {},
   "toc_section_display": true,
   "toc_window_display": false
  }
 },
 "nbformat": 4,
 "nbformat_minor": 2
}
