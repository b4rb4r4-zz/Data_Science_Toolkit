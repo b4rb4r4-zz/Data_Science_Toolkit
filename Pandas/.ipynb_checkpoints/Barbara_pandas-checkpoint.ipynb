{
 "cells": [
  {
   "cell_type": "markdown",
   "metadata": {},
   "source": [
    "# Bincando com o Pandas"
   ]
  },
  {
   "cell_type": "markdown",
   "metadata": {},
   "source": [
    "## Series"
   ]
  },
  {
   "cell_type": "code",
   "execution_count": 2,
   "metadata": {
    "ExecuteTime": {
     "end_time": "2019-05-05T18:24:40.008334Z",
     "start_time": "2019-05-05T18:24:40.004345Z"
    }
   },
   "outputs": [],
   "source": [
    "import pandas as pd\n",
    "import numpy as np"
   ]
  },
  {
   "cell_type": "code",
   "execution_count": 5,
   "metadata": {
    "ExecuteTime": {
     "end_time": "2019-05-05T18:25:44.815894Z",
     "start_time": "2019-05-05T18:25:44.790928Z"
    }
   },
   "outputs": [],
   "source": [
    "# Criando uma series\n",
    "series = pd.Series([1,2,3], index = ['Flamengo', 'Vasco', 'Santos'])"
   ]
  },
  {
   "cell_type": "code",
   "execution_count": 6,
   "metadata": {
    "ExecuteTime": {
     "end_time": "2019-05-05T18:25:52.385334Z",
     "start_time": "2019-05-05T18:25:52.354415Z"
    }
   },
   "outputs": [
    {
     "data": {
      "text/plain": [
       "Flamengo    1\n",
       "Vasco       2\n",
       "Santos      3\n",
       "dtype: int64"
      ]
     },
     "execution_count": 6,
     "metadata": {},
     "output_type": "execute_result"
    }
   ],
   "source": [
    "series"
   ]
  },
  {
   "cell_type": "code",
   "execution_count": 7,
   "metadata": {
    "ExecuteTime": {
     "end_time": "2019-05-05T18:27:01.346453Z",
     "start_time": "2019-05-05T18:27:01.320512Z"
    }
   },
   "outputs": [],
   "source": [
    "# Adicionando elementos a uma series\n",
    "series['new'] = [2,4,6]"
   ]
  },
  {
   "cell_type": "code",
   "execution_count": 8,
   "metadata": {
    "ExecuteTime": {
     "end_time": "2019-05-05T18:27:06.669941Z",
     "start_time": "2019-05-05T18:27:06.663957Z"
    }
   },
   "outputs": [
    {
     "data": {
      "text/plain": [
       "Flamengo            1\n",
       "Vasco               2\n",
       "Santos              3\n",
       "new         [2, 4, 6]\n",
       "dtype: object"
      ]
     },
     "execution_count": 8,
     "metadata": {},
     "output_type": "execute_result"
    }
   ],
   "source": [
    "series"
   ]
  },
  {
   "cell_type": "code",
   "execution_count": 11,
   "metadata": {
    "ExecuteTime": {
     "end_time": "2019-05-05T18:29:52.719003Z",
     "start_time": "2019-05-05T18:29:52.711077Z"
    }
   },
   "outputs": [
    {
     "data": {
      "text/plain": [
       "2"
      ]
     },
     "execution_count": 11,
     "metadata": {},
     "output_type": "execute_result"
    }
   ],
   "source": [
    "series.pop('Vasco')"
   ]
  },
  {
   "cell_type": "code",
   "execution_count": null,
   "metadata": {},
   "outputs": [],
   "source": []
  }
 ],
 "metadata": {
  "kernelspec": {
   "display_name": "Python 3",
   "language": "python",
   "name": "python3"
  },
  "language_info": {
   "codemirror_mode": {
    "name": "ipython",
    "version": 3
   },
   "file_extension": ".py",
   "mimetype": "text/x-python",
   "name": "python",
   "nbconvert_exporter": "python",
   "pygments_lexer": "ipython3",
   "version": "3.7.0"
  },
  "toc": {
   "base_numbering": 1,
   "nav_menu": {},
   "number_sections": true,
   "sideBar": true,
   "skip_h1_title": false,
   "title_cell": "Table of Contents",
   "title_sidebar": "Contents",
   "toc_cell": false,
   "toc_position": {},
   "toc_section_display": true,
   "toc_window_display": false
  }
 },
 "nbformat": 4,
 "nbformat_minor": 2
}
