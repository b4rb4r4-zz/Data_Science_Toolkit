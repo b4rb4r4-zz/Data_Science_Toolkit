{
 "cells": [
  {
   "cell_type": "markdown",
   "metadata": {},
   "source": [
    "# Tutorial Numpy"
   ]
  },
  {
   "cell_type": "markdown",
   "metadata": {},
   "source": [
    "## Este tutorial compreende:\n",
    "\n",
    "- Criação de numpy arrays\n",
    "- Indexação\n",
    "- Atribuição e transmissão"
   ]
  },
  {
   "cell_type": "markdown",
   "metadata": {},
   "source": [
    "**Importando Biblioteca**"
   ]
  },
  {
   "cell_type": "code",
   "execution_count": 2,
   "metadata": {
    "ExecuteTime": {
     "end_time": "2019-05-30T17:36:28.302985Z",
     "start_time": "2019-05-30T17:36:26.997200Z"
    }
   },
   "outputs": [],
   "source": [
    "import numpy as np"
   ]
  },
  {
   "cell_type": "markdown",
   "metadata": {
    "heading_collapsed": true
   },
   "source": [
    "### Criação de numpy arrays\n",
    "\n",
    "**Método np.arange()**\n",
    "\n",
    "Retorna um numpy array com elementos igualmente espaçados dentro do intervalo especificado.    \n",
    "É possível criar diferentes tipos de numpy array, como float, 'int64', 'int16', etc..."
   ]
  },
  {
   "cell_type": "code",
   "execution_count": 3,
   "metadata": {
    "ExecuteTime": {
     "end_time": "2019-05-30T17:36:28.332623Z",
     "start_time": "2019-05-30T17:36:28.310679Z"
    },
    "hidden": true
   },
   "outputs": [
    {
     "data": {
      "text/plain": [
       "array([0, 1, 2, 3, 4, 5, 6, 7, 8, 9])"
      ]
     },
     "execution_count": 3,
     "metadata": {},
     "output_type": "execute_result"
    }
   ],
   "source": [
    "ar = np.arange(0,10)\n",
    "ar"
   ]
  },
  {
   "cell_type": "markdown",
   "metadata": {
    "hidden": true
   },
   "source": [
    "**Método np.linspace()**\n",
    "\n",
    "Retorna um numpy array com a quantidade de elementos descritos no último parâmetro"
   ]
  },
  {
   "cell_type": "code",
   "execution_count": 4,
   "metadata": {
    "ExecuteTime": {
     "end_time": "2019-05-30T17:36:28.360221Z",
     "start_time": "2019-05-30T17:36:28.334615Z"
    },
    "hidden": true
   },
   "outputs": [
    {
     "data": {
      "text/plain": [
       "array([ 0. ,  7.5, 15. ])"
      ]
     },
     "execution_count": 4,
     "metadata": {},
     "output_type": "execute_result"
    }
   ],
   "source": [
    "ar2 = np.linspace(0,15,3)\n",
    "ar2"
   ]
  },
  {
   "cell_type": "markdown",
   "metadata": {
    "hidden": true
   },
   "source": [
    "**Método np.zeros()**\n",
    "\n",
    "Cria uma matriz de zeros. O primeiro parâmetro é a quantidade de linhas e o segundo a quantidade de colunas da matriz."
   ]
  },
  {
   "cell_type": "code",
   "execution_count": 5,
   "metadata": {
    "ExecuteTime": {
     "end_time": "2019-05-30T17:36:28.384188Z",
     "start_time": "2019-05-30T17:36:28.363360Z"
    },
    "hidden": true
   },
   "outputs": [
    {
     "data": {
      "text/plain": [
       "array([[0., 0., 0., 0.],\n",
       "       [0., 0., 0., 0.],\n",
       "       [0., 0., 0., 0.]])"
      ]
     },
     "execution_count": 5,
     "metadata": {},
     "output_type": "execute_result"
    }
   ],
   "source": [
    "np.zeros((3,4))"
   ]
  },
  {
   "cell_type": "markdown",
   "metadata": {
    "hidden": true
   },
   "source": [
    "**Método np.ones()**\n",
    "\n",
    "Cria uma matriz de uns. O primeiro parâmetro é a quantidade de linhas e o segundo a quantidade de colunas da matriz.   \n",
    "Ps.: A partir da matriz de uns é possível criar uma matriz de qualquer outro número real."
   ]
  },
  {
   "cell_type": "code",
   "execution_count": 6,
   "metadata": {
    "ExecuteTime": {
     "end_time": "2019-05-30T17:36:28.425048Z",
     "start_time": "2019-05-30T17:36:28.386384Z"
    },
    "hidden": true
   },
   "outputs": [
    {
     "data": {
      "text/plain": [
       "array([[1., 1., 1.],\n",
       "       [1., 1., 1.],\n",
       "       [1., 1., 1.],\n",
       "       [1., 1., 1.]])"
      ]
     },
     "execution_count": 6,
     "metadata": {},
     "output_type": "execute_result"
    }
   ],
   "source": [
    "np.ones((4,3))"
   ]
  },
  {
   "cell_type": "code",
   "execution_count": 7,
   "metadata": {
    "ExecuteTime": {
     "end_time": "2019-05-30T17:36:28.478990Z",
     "start_time": "2019-05-30T17:36:28.428037Z"
    },
    "hidden": true
   },
   "outputs": [
    {
     "data": {
      "text/plain": [
       "array([[8., 8., 8., 8., 8.],\n",
       "       [8., 8., 8., 8., 8.],\n",
       "       [8., 8., 8., 8., 8.]])"
      ]
     },
     "execution_count": 7,
     "metadata": {},
     "output_type": "execute_result"
    }
   ],
   "source": [
    "np.ones((3,5))*8"
   ]
  },
  {
   "cell_type": "markdown",
   "metadata": {
    "hidden": true
   },
   "source": [
    "**Criando uma matriz identidade**"
   ]
  },
  {
   "cell_type": "code",
   "execution_count": 8,
   "metadata": {
    "ExecuteTime": {
     "end_time": "2019-05-30T17:36:28.529813Z",
     "start_time": "2019-05-30T17:36:28.481281Z"
    },
    "hidden": true
   },
   "outputs": [
    {
     "data": {
      "text/plain": [
       "array([[1., 0., 0.],\n",
       "       [0., 1., 0.],\n",
       "       [0., 0., 1.]])"
      ]
     },
     "execution_count": 8,
     "metadata": {},
     "output_type": "execute_result"
    }
   ],
   "source": [
    "np.eye(3)"
   ]
  },
  {
   "cell_type": "markdown",
   "metadata": {
    "hidden": true
   },
   "source": [
    "**Criando o seu próprio Array**"
   ]
  },
  {
   "cell_type": "code",
   "execution_count": 9,
   "metadata": {
    "ExecuteTime": {
     "end_time": "2019-05-30T17:36:28.549746Z",
     "start_time": "2019-05-30T17:36:28.532999Z"
    },
    "hidden": true
   },
   "outputs": [],
   "source": [
    "my_array = np.array([[4,6,5],[7,9,10],[1,2,3]])"
   ]
  },
  {
   "cell_type": "code",
   "execution_count": 43,
   "metadata": {
    "ExecuteTime": {
     "end_time": "2019-05-30T17:40:22.959407Z",
     "start_time": "2019-05-30T17:40:22.952427Z"
    },
    "hidden": true
   },
   "outputs": [
    {
     "data": {
      "text/plain": [
       "array([[ 4,  6,  5],\n",
       "       [ 7,  9, 10],\n",
       "       [ 1,  2,  3]])"
      ]
     },
     "execution_count": 43,
     "metadata": {},
     "output_type": "execute_result"
    }
   ],
   "source": [
    "my_array"
   ]
  },
  {
   "cell_type": "markdown",
   "metadata": {
    "hidden": true
   },
   "source": [
    "**Criando um array a patir de uma lista**"
   ]
  },
  {
   "cell_type": "code",
   "execution_count": 11,
   "metadata": {
    "ExecuteTime": {
     "end_time": "2019-05-30T17:36:28.599613Z",
     "start_time": "2019-05-30T17:36:28.580631Z"
    },
    "hidden": true
   },
   "outputs": [],
   "source": [
    "my_list = [1,3,5,9,7,4]\n",
    "\n",
    "my_array_ = np.array(my_list)"
   ]
  },
  {
   "cell_type": "code",
   "execution_count": 12,
   "metadata": {
    "ExecuteTime": {
     "end_time": "2019-05-30T17:36:28.626553Z",
     "start_time": "2019-05-30T17:36:28.602574Z"
    },
    "hidden": true
   },
   "outputs": [
    {
     "data": {
      "text/plain": [
       "array([1, 3, 5, 9, 7, 4])"
      ]
     },
     "execution_count": 12,
     "metadata": {},
     "output_type": "execute_result"
    }
   ],
   "source": [
    "my_array_"
   ]
  },
  {
   "cell_type": "markdown",
   "metadata": {
    "hidden": true
   },
   "source": [
    "Por default um array é do tipo 'int64' se estiver alocado em uma máquina de 64-bits.\n",
    "É possível alterar o tipo do array através do atributo *dtype*"
   ]
  },
  {
   "cell_type": "code",
   "execution_count": 47,
   "metadata": {
    "ExecuteTime": {
     "end_time": "2019-05-30T17:45:27.284753Z",
     "start_time": "2019-05-30T17:45:27.277808Z"
    },
    "hidden": true
   },
   "outputs": [
    {
     "data": {
      "text/plain": [
       "dtype('int32')"
      ]
     },
     "execution_count": 47,
     "metadata": {},
     "output_type": "execute_result"
    }
   ],
   "source": [
    "my_array.dtype"
   ]
  },
  {
   "cell_type": "code",
   "execution_count": 48,
   "metadata": {
    "ExecuteTime": {
     "end_time": "2019-05-30T17:46:41.237905Z",
     "start_time": "2019-05-30T17:46:41.232918Z"
    },
    "hidden": true
   },
   "outputs": [],
   "source": [
    "my_arr_float = my_array.astype(np.float32)"
   ]
  },
  {
   "cell_type": "code",
   "execution_count": 49,
   "metadata": {
    "ExecuteTime": {
     "end_time": "2019-05-30T17:46:48.621475Z",
     "start_time": "2019-05-30T17:46:48.614537Z"
    },
    "hidden": true
   },
   "outputs": [
    {
     "data": {
      "text/plain": [
       "dtype('float32')"
      ]
     },
     "execution_count": 49,
     "metadata": {},
     "output_type": "execute_result"
    }
   ],
   "source": [
    "my_arr_float.dtype"
   ]
  },
  {
   "cell_type": "markdown",
   "metadata": {
    "hidden": true
   },
   "source": [
    "**Criação de arrays randômicos**"
   ]
  },
  {
   "cell_type": "markdown",
   "metadata": {
    "hidden": true
   },
   "source": [
    "**Método Rand**\n",
    "\n",
    "Cria uma matriz com amostras aleatórias em distribuição uniforme sobre [0,1)."
   ]
  },
  {
   "cell_type": "code",
   "execution_count": 13,
   "metadata": {
    "ExecuteTime": {
     "end_time": "2019-05-30T17:36:28.677730Z",
     "start_time": "2019-05-30T17:36:28.629800Z"
    },
    "hidden": true
   },
   "outputs": [
    {
     "data": {
      "text/plain": [
       "array([[0.18897792, 0.78986002, 0.37947973],\n",
       "       [0.46336155, 0.08748804, 0.20134382],\n",
       "       [0.9669466 , 0.14261334, 0.30088805]])"
      ]
     },
     "execution_count": 13,
     "metadata": {},
     "output_type": "execute_result"
    }
   ],
   "source": [
    "np.random.rand(3,3)"
   ]
  },
  {
   "cell_type": "markdown",
   "metadata": {
    "hidden": true
   },
   "source": [
    "**Método Randn**\n",
    "\n",
    "Cria um matriz de distribuição normal."
   ]
  },
  {
   "cell_type": "code",
   "execution_count": 14,
   "metadata": {
    "ExecuteTime": {
     "end_time": "2019-05-30T17:36:28.751145Z",
     "start_time": "2019-05-30T17:36:28.679711Z"
    },
    "hidden": true
   },
   "outputs": [
    {
     "data": {
      "text/plain": [
       "array([[ 0.44221233,  0.03465867,  0.49001158],\n",
       "       [ 0.36252988, -0.27355128, -0.12474072],\n",
       "       [-1.41083272,  2.00032313, -1.3411473 ]])"
      ]
     },
     "execution_count": 14,
     "metadata": {},
     "output_type": "execute_result"
    }
   ],
   "source": [
    "np.random.randn(3,3)"
   ]
  },
  {
   "cell_type": "markdown",
   "metadata": {
    "hidden": true
   },
   "source": [
    "**Método Randint**\n",
    "\n",
    "Dado um intervalo, o método retorna um inteiro aleatório a partir do low (inclusivo) e do  high (exclusivo)."
   ]
  },
  {
   "cell_type": "code",
   "execution_count": 15,
   "metadata": {
    "ExecuteTime": {
     "end_time": "2019-05-30T17:36:28.803301Z",
     "start_time": "2019-05-30T17:36:28.756425Z"
    },
    "hidden": true
   },
   "outputs": [
    {
     "data": {
      "text/plain": [
       "64"
      ]
     },
     "execution_count": 15,
     "metadata": {},
     "output_type": "execute_result"
    }
   ],
   "source": [
    "np.random.randint(5,90)"
   ]
  },
  {
   "cell_type": "code",
   "execution_count": 16,
   "metadata": {
    "ExecuteTime": {
     "end_time": "2019-05-30T17:36:28.831224Z",
     "start_time": "2019-05-30T17:36:28.808286Z"
    },
    "hidden": true
   },
   "outputs": [
    {
     "data": {
      "text/plain": [
       "array([[28, 52, 92, 83],\n",
       "       [83, 89, 34, 81],\n",
       "       [23, 47, 70, 73],\n",
       "       [10, 95, 32, 55]])"
      ]
     },
     "execution_count": 16,
     "metadata": {},
     "output_type": "execute_result"
    }
   ],
   "source": [
    "np.random.randint(9,100, size=(4,4))"
   ]
  },
  {
   "cell_type": "markdown",
   "metadata": {
    "ExecuteTime": {
     "end_time": "2019-05-29T18:52:20.021890Z",
     "start_time": "2019-05-29T18:52:20.017902Z"
    },
    "hidden": true
   },
   "source": [
    "**Método Seed**\n",
    "\n",
    "Cria uma matriz de números aleatórios fixa. Este comando é utilizado quando é necessário um conjunto de valores aleatórios fixo."
   ]
  },
  {
   "cell_type": "code",
   "execution_count": 17,
   "metadata": {
    "ExecuteTime": {
     "end_time": "2019-05-30T17:36:28.903080Z",
     "start_time": "2019-05-30T17:36:28.833219Z"
    },
    "hidden": true
   },
   "outputs": [
    {
     "data": {
      "text/plain": [
       "array([[46, 21, 81, 18],\n",
       "       [84, 14, 88, 73],\n",
       "       [25, 10, 85, 80],\n",
       "       [15, 34, 59, 29]])"
      ]
     },
     "execution_count": 17,
     "metadata": {},
     "output_type": "execute_result"
    }
   ],
   "source": [
    "np.random.seed(1)\n",
    "np.random.randint(9,100, size=(4,4))"
   ]
  },
  {
   "cell_type": "markdown",
   "metadata": {
    "heading_collapsed": true
   },
   "source": [
    "### Indexação\n",
    "\n",
    "Indexação é a forma como um ou mais elementos são selecionados dentro de uma matriz de arrays."
   ]
  },
  {
   "cell_type": "code",
   "execution_count": 18,
   "metadata": {
    "ExecuteTime": {
     "end_time": "2019-05-30T17:36:28.946949Z",
     "start_time": "2019-05-30T17:36:28.906024Z"
    },
    "hidden": true
   },
   "outputs": [],
   "source": [
    "arr = np.array([1,2,3,4,5,6,7,8,9])"
   ]
  },
  {
   "cell_type": "code",
   "execution_count": 19,
   "metadata": {
    "ExecuteTime": {
     "end_time": "2019-05-30T17:36:28.972888Z",
     "start_time": "2019-05-30T17:36:28.949094Z"
    },
    "hidden": true
   },
   "outputs": [
    {
     "data": {
      "text/plain": [
       "array([1, 2, 3, 4, 5, 6, 7, 8, 9])"
      ]
     },
     "execution_count": 19,
     "metadata": {},
     "output_type": "execute_result"
    }
   ],
   "source": [
    "arr"
   ]
  },
  {
   "cell_type": "markdown",
   "metadata": {
    "ExecuteTime": {
     "end_time": "2019-05-29T21:04:14.909498Z",
     "start_time": "2019-05-29T21:04:14.902559Z"
    },
    "hidden": true
   },
   "source": [
    "A indexação é em um array unidimensional feita entre colchetes, em que o número corresponde a posição do elemento.   \n",
    "A primeira posição corresponde ao índice 0."
   ]
  },
  {
   "cell_type": "code",
   "execution_count": 20,
   "metadata": {
    "ExecuteTime": {
     "end_time": "2019-05-30T17:36:29.018723Z",
     "start_time": "2019-05-30T17:36:28.975874Z"
    },
    "hidden": true
   },
   "outputs": [
    {
     "data": {
      "text/plain": [
       "6"
      ]
     },
     "execution_count": 20,
     "metadata": {},
     "output_type": "execute_result"
    }
   ],
   "source": [
    "arr[5]"
   ]
  },
  {
   "cell_type": "code",
   "execution_count": 21,
   "metadata": {
    "ExecuteTime": {
     "end_time": "2019-05-30T17:36:29.044653Z",
     "start_time": "2019-05-30T17:36:29.020719Z"
    },
    "hidden": true
   },
   "outputs": [],
   "source": [
    "arr2 = np.array([[1,2,3],[4,5,6],[7,8,9],[10,11,12]])"
   ]
  },
  {
   "cell_type": "code",
   "execution_count": 22,
   "metadata": {
    "ExecuteTime": {
     "end_time": "2019-05-30T17:36:29.072584Z",
     "start_time": "2019-05-30T17:36:29.047644Z"
    },
    "hidden": true
   },
   "outputs": [
    {
     "data": {
      "text/plain": [
       "array([[ 1,  2,  3],\n",
       "       [ 4,  5,  6],\n",
       "       [ 7,  8,  9],\n",
       "       [10, 11, 12]])"
      ]
     },
     "execution_count": 22,
     "metadata": {},
     "output_type": "execute_result"
    }
   ],
   "source": [
    "arr2"
   ]
  },
  {
   "cell_type": "markdown",
   "metadata": {
    "ExecuteTime": {
     "end_time": "2019-05-29T22:12:16.465272Z",
     "start_time": "2019-05-29T22:12:16.446324Z"
    },
    "hidden": true
   },
   "source": [
    "Selecionando apenas um elemento da matriz"
   ]
  },
  {
   "cell_type": "code",
   "execution_count": 23,
   "metadata": {
    "ExecuteTime": {
     "end_time": "2019-05-30T17:36:29.096526Z",
     "start_time": "2019-05-30T17:36:29.076571Z"
    },
    "hidden": true
   },
   "outputs": [
    {
     "data": {
      "text/plain": [
       "8"
      ]
     },
     "execution_count": 23,
     "metadata": {},
     "output_type": "execute_result"
    }
   ],
   "source": [
    "arr2[2][1]"
   ]
  },
  {
   "cell_type": "markdown",
   "metadata": {
    "hidden": true
   },
   "source": [
    "Para selecionar um elemento de uma matriz, é necessário informar a posição da linha e da coluna."
   ]
  },
  {
   "cell_type": "code",
   "execution_count": 24,
   "metadata": {
    "ExecuteTime": {
     "end_time": "2019-05-30T17:36:29.180307Z",
     "start_time": "2019-05-30T17:36:29.098537Z"
    },
    "hidden": true
   },
   "outputs": [
    {
     "data": {
      "text/plain": [
       "8"
      ]
     },
     "execution_count": 24,
     "metadata": {},
     "output_type": "execute_result"
    }
   ],
   "source": [
    "arr2[2,1]"
   ]
  },
  {
   "cell_type": "markdown",
   "metadata": {
    "ExecuteTime": {
     "end_time": "2019-05-29T21:37:48.842145Z",
     "start_time": "2019-05-29T21:37:48.837158Z"
    },
    "hidden": true
   },
   "source": [
    "Para selecionar mais de um elemento é preciso informar o intervalo."
   ]
  },
  {
   "cell_type": "code",
   "execution_count": 25,
   "metadata": {
    "ExecuteTime": {
     "end_time": "2019-05-30T17:36:29.209595Z",
     "start_time": "2019-05-30T17:36:29.183315Z"
    },
    "hidden": true
   },
   "outputs": [
    {
     "data": {
      "text/plain": [
       "array([[ 1,  7,  3,  5,  9, 11],\n",
       "       [ 2,  4,  6,  8, 10, 12],\n",
       "       [ 1,  2,  3,  5,  7, 11],\n",
       "       [13, 17, 19, 23, 29, 31]])"
      ]
     },
     "execution_count": 25,
     "metadata": {},
     "output_type": "execute_result"
    }
   ],
   "source": [
    "arr3 = np.array([[1,7,3,5,9,11],\n",
    "                 [2,4,6,8,10,12],\n",
    "                 [1,2,3,5,7,11],\n",
    "                 [13,17,19,23,29,31]])\n",
    "arr3"
   ]
  },
  {
   "cell_type": "code",
   "execution_count": 26,
   "metadata": {
    "ExecuteTime": {
     "end_time": "2019-05-30T17:36:29.231154Z",
     "start_time": "2019-05-30T17:36:29.213203Z"
    },
    "hidden": true
   },
   "outputs": [
    {
     "data": {
      "text/plain": [
       "array([[6, 8],\n",
       "       [3, 5]])"
      ]
     },
     "execution_count": 26,
     "metadata": {},
     "output_type": "execute_result"
    }
   ],
   "source": [
    "arr3[1:3,2:4]"
   ]
  },
  {
   "cell_type": "markdown",
   "metadata": {
    "hidden": true
   },
   "source": [
    "Para selecionar todos os elementos de um eixo, basta utilizar    <span style=\"color:red\">**:**</span> "
   ]
  },
  {
   "cell_type": "code",
   "execution_count": 27,
   "metadata": {
    "ExecuteTime": {
     "end_time": "2019-05-30T17:36:29.308947Z",
     "start_time": "2019-05-30T17:36:29.233149Z"
    },
    "hidden": true
   },
   "outputs": [
    {
     "data": {
      "text/plain": [
       "array([[ 1,  7,  3,  5],\n",
       "       [ 2,  4,  6,  8],\n",
       "       [ 1,  2,  3,  5],\n",
       "       [13, 17, 19, 23]])"
      ]
     },
     "execution_count": 27,
     "metadata": {},
     "output_type": "execute_result"
    }
   ],
   "source": [
    "arr3[:,:4]"
   ]
  },
  {
   "cell_type": "code",
   "execution_count": 28,
   "metadata": {
    "ExecuteTime": {
     "end_time": "2019-05-30T17:36:29.384824Z",
     "start_time": "2019-05-30T17:36:29.313938Z"
    },
    "hidden": true
   },
   "outputs": [
    {
     "data": {
      "text/plain": [
       "array([[ 1,  7,  3,  5,  9, 11],\n",
       "       [ 2,  4,  6,  8, 10, 12],\n",
       "       [ 1,  2,  3,  5,  7, 11],\n",
       "       [13, 17, 19, 23, 29, 31]])"
      ]
     },
     "execution_count": 28,
     "metadata": {},
     "output_type": "execute_result"
    }
   ],
   "source": [
    "# Selecionando toda a matriz\n",
    "arr3[:]"
   ]
  },
  {
   "cell_type": "markdown",
   "metadata": {
    "ExecuteTime": {
     "end_time": "2019-05-29T21:56:24.972121Z",
     "start_time": "2019-05-29T21:56:24.968131Z"
    },
    "heading_collapsed": true
   },
   "source": [
    "### Atribuição e Transmissão"
   ]
  },
  {
   "cell_type": "code",
   "execution_count": 29,
   "metadata": {
    "ExecuteTime": {
     "end_time": "2019-05-30T17:36:29.429799Z",
     "start_time": "2019-05-30T17:36:29.393092Z"
    },
    "hidden": true
   },
   "outputs": [
    {
     "data": {
      "text/plain": [
       "array([[ 1,  7,  3,  5,  9, 11],\n",
       "       [ 2,  4,  6,  8, 10, 12],\n",
       "       [ 1,  2,  3,  5,  7, 11],\n",
       "       [13, 17, 19, 23, 29, 31]])"
      ]
     },
     "execution_count": 29,
     "metadata": {},
     "output_type": "execute_result"
    }
   ],
   "source": [
    "arr3"
   ]
  },
  {
   "cell_type": "code",
   "execution_count": 30,
   "metadata": {
    "ExecuteTime": {
     "end_time": "2019-05-30T17:36:29.449580Z",
     "start_time": "2019-05-30T17:36:29.433614Z"
    },
    "hidden": true
   },
   "outputs": [
    {
     "data": {
      "text/plain": [
       "array([[100, 100, 100,   5,   9,  11],\n",
       "       [100, 100, 100,   8,  10,  12],\n",
       "       [100, 100, 100,   5,   7,  11],\n",
       "       [ 13,  17,  19,  23,  29,  31]])"
      ]
     },
     "execution_count": 30,
     "metadata": {},
     "output_type": "execute_result"
    }
   ],
   "source": [
    "arr3[:3,:3] = 100\n",
    "arr3"
   ]
  },
  {
   "cell_type": "code",
   "execution_count": 31,
   "metadata": {
    "ExecuteTime": {
     "end_time": "2019-05-30T17:36:29.475508Z",
     "start_time": "2019-05-30T17:36:29.451568Z"
    },
    "hidden": true
   },
   "outputs": [
    {
     "data": {
      "text/plain": [
       "array([[ 5,  7],\n",
       "       [23, 29]])"
      ]
     },
     "execution_count": 31,
     "metadata": {},
     "output_type": "execute_result"
    }
   ],
   "source": [
    "slice_arr3 = arr3[2:,3:5]\n",
    "slice_arr3"
   ]
  },
  {
   "cell_type": "code",
   "execution_count": 32,
   "metadata": {
    "ExecuteTime": {
     "end_time": "2019-05-30T17:36:29.498442Z",
     "start_time": "2019-05-30T17:36:29.479530Z"
    },
    "hidden": true
   },
   "outputs": [],
   "source": [
    "slice_arr3[:] = 222"
   ]
  },
  {
   "cell_type": "code",
   "execution_count": 33,
   "metadata": {
    "ExecuteTime": {
     "end_time": "2019-05-30T17:36:29.525402Z",
     "start_time": "2019-05-30T17:36:29.500438Z"
    },
    "hidden": true
   },
   "outputs": [
    {
     "data": {
      "text/plain": [
       "array([[222, 222],\n",
       "       [222, 222]])"
      ]
     },
     "execution_count": 33,
     "metadata": {},
     "output_type": "execute_result"
    }
   ],
   "source": [
    "slice_arr3"
   ]
  },
  {
   "cell_type": "code",
   "execution_count": 34,
   "metadata": {
    "ExecuteTime": {
     "end_time": "2019-05-30T17:36:29.547080Z",
     "start_time": "2019-05-30T17:36:29.528361Z"
    },
    "hidden": true
   },
   "outputs": [
    {
     "data": {
      "text/plain": [
       "array([[100, 100, 100,   5,   9,  11],\n",
       "       [100, 100, 100,   8,  10,  12],\n",
       "       [100, 100, 100, 222, 222,  11],\n",
       "       [ 13,  17,  19, 222, 222,  31]])"
      ]
     },
     "execution_count": 34,
     "metadata": {},
     "output_type": "execute_result"
    }
   ],
   "source": [
    "arr3"
   ]
  },
  {
   "cell_type": "markdown",
   "metadata": {
    "hidden": true
   },
   "source": [
    "O valor alterado da fatia (slice_arr3) tambem está alterando a matriz original. Para impedir isso é utilizado o método **.copy()**"
   ]
  },
  {
   "cell_type": "code",
   "execution_count": 35,
   "metadata": {
    "ExecuteTime": {
     "end_time": "2019-05-30T17:36:29.572244Z",
     "start_time": "2019-05-30T17:36:29.551298Z"
    },
    "hidden": true
   },
   "outputs": [
    {
     "data": {
      "text/plain": [
       "array([[100, 100,   5],\n",
       "       [100, 100,   8],\n",
       "       [100, 100, 222],\n",
       "       [ 17,  19, 222]])"
      ]
     },
     "execution_count": 35,
     "metadata": {},
     "output_type": "execute_result"
    }
   ],
   "source": [
    "arr_copy = arr3[:,1:4].copy()\n",
    "arr_copy"
   ]
  },
  {
   "cell_type": "code",
   "execution_count": 36,
   "metadata": {
    "ExecuteTime": {
     "end_time": "2019-05-30T17:36:29.597177Z",
     "start_time": "2019-05-30T17:36:29.575235Z"
    },
    "hidden": true
   },
   "outputs": [
    {
     "data": {
      "text/plain": [
       "array([[55, 55, 55],\n",
       "       [55, 55, 55],\n",
       "       [55, 55, 55],\n",
       "       [55, 55, 55]])"
      ]
     },
     "execution_count": 36,
     "metadata": {},
     "output_type": "execute_result"
    }
   ],
   "source": [
    "arr_copy[:] = 55\n",
    "arr_copy"
   ]
  },
  {
   "cell_type": "code",
   "execution_count": 37,
   "metadata": {
    "ExecuteTime": {
     "end_time": "2019-05-30T17:36:29.635125Z",
     "start_time": "2019-05-30T17:36:29.600197Z"
    },
    "hidden": true
   },
   "outputs": [
    {
     "data": {
      "text/plain": [
       "array([[100, 100, 100,   5,   9,  11],\n",
       "       [100, 100, 100,   8,  10,  12],\n",
       "       [100, 100, 100, 222, 222,  11],\n",
       "       [ 13,  17,  19, 222, 222,  31]])"
      ]
     },
     "execution_count": 37,
     "metadata": {},
     "output_type": "execute_result"
    }
   ],
   "source": [
    "arr3"
   ]
  }
 ],
 "metadata": {
  "kernelspec": {
   "display_name": "Python 3",
   "language": "python",
   "name": "python3"
  },
  "language_info": {
   "codemirror_mode": {
    "name": "ipython",
    "version": 3
   },
   "file_extension": ".py",
   "mimetype": "text/x-python",
   "name": "python",
   "nbconvert_exporter": "python",
   "pygments_lexer": "ipython3",
   "version": "3.7.0"
  },
  "toc": {
   "base_numbering": 1,
   "nav_menu": {},
   "number_sections": true,
   "sideBar": true,
   "skip_h1_title": false,
   "title_cell": "Table of Contents",
   "title_sidebar": "Contents",
   "toc_cell": false,
   "toc_position": {},
   "toc_section_display": true,
   "toc_window_display": false
  }
 },
 "nbformat": 4,
 "nbformat_minor": 2
}
