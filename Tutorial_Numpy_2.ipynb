{
 "cells": [
  {
   "cell_type": "markdown",
   "metadata": {},
   "source": [
    "# Tutorial Numpy "
   ]
  },
  {
   "cell_type": "markdown",
   "metadata": {},
   "source": [
    "## Este Tutorial Compreende:\n",
    "\n",
    "- Tamanho e Dimensões\n",
    "- Principais métodos \n",
    "- Operações com arrays"
   ]
  },
  {
   "cell_type": "markdown",
   "metadata": {
    "heading_collapsed": true
   },
   "source": [
    "### Tamanho e Dimensões\n",
    "\n",
    "Existem diferentes formas de checar o tamanho e dimensão de um numpy array:\n",
    "- **.itemsize**\n",
    "- **.size**\n",
    "- **.shape**\n",
    "- **ndim**"
   ]
  },
  {
   "cell_type": "code",
   "execution_count": 2,
   "metadata": {
    "ExecuteTime": {
     "end_time": "2019-05-30T17:58:26.318621Z",
     "start_time": "2019-05-30T17:58:26.147059Z"
    },
    "hidden": true
   },
   "outputs": [],
   "source": [
    "import numpy as np"
   ]
  },
  {
   "cell_type": "code",
   "execution_count": 13,
   "metadata": {
    "ExecuteTime": {
     "end_time": "2019-05-30T18:00:05.297583Z",
     "start_time": "2019-05-30T18:00:05.291560Z"
    },
    "hidden": true
   },
   "outputs": [],
   "source": [
    "arr = np.array([[1,2,3],\n",
    "                [4,5,6],\n",
    "                [7,8,9],\n",
    "                [10,11,12]], dtype='int32')"
   ]
  },
  {
   "cell_type": "markdown",
   "metadata": {
    "hidden": true
   },
   "source": [
    "**O atributo *.itemsize* retorna o tamnaho de cada item do array em bits. \n",
    "Neste caso cada item ocupa 4 bits na memória, ou seja, metade de um byte.**"
   ]
  },
  {
   "cell_type": "code",
   "execution_count": 12,
   "metadata": {
    "ExecuteTime": {
     "end_time": "2019-05-30T17:59:16.024607Z",
     "start_time": "2019-05-30T17:59:16.018626Z"
    },
    "hidden": true
   },
   "outputs": [
    {
     "data": {
      "text/plain": [
       "4"
      ]
     },
     "execution_count": 12,
     "metadata": {},
     "output_type": "execute_result"
    }
   ],
   "source": [
    "arr.itemsize"
   ]
  },
  {
   "cell_type": "markdown",
   "metadata": {
    "ExecuteTime": {
     "end_time": "2019-05-30T18:02:18.554078Z",
     "start_time": "2019-05-30T18:02:18.547750Z"
    },
    "hidden": true
   },
   "source": [
    "**O atributo *.size* retorna a quantidade de elementos de um array.**"
   ]
  },
  {
   "cell_type": "code",
   "execution_count": 15,
   "metadata": {
    "ExecuteTime": {
     "end_time": "2019-05-30T18:03:00.780819Z",
     "start_time": "2019-05-30T18:03:00.774533Z"
    },
    "hidden": true
   },
   "outputs": [
    {
     "data": {
      "text/plain": [
       "12"
      ]
     },
     "execution_count": 15,
     "metadata": {},
     "output_type": "execute_result"
    }
   ],
   "source": [
    "arr.size"
   ]
  },
  {
   "cell_type": "markdown",
   "metadata": {
    "hidden": true
   },
   "source": [
    "**O atributo *.shape* retorna uma tupla com a quantidade de linhas e colunas, respectivamente**"
   ]
  },
  {
   "cell_type": "code",
   "execution_count": 16,
   "metadata": {
    "ExecuteTime": {
     "end_time": "2019-05-30T18:05:33.158079Z",
     "start_time": "2019-05-30T18:05:33.151100Z"
    },
    "hidden": true
   },
   "outputs": [
    {
     "data": {
      "text/plain": [
       "(4, 3)"
      ]
     },
     "execution_count": 16,
     "metadata": {},
     "output_type": "execute_result"
    }
   ],
   "source": [
    "arr.shape"
   ]
  },
  {
   "cell_type": "markdown",
   "metadata": {
    "hidden": true
   },
   "source": [
    "**O atributo *ndim* retorna a quantidade de dimensões do array**"
   ]
  },
  {
   "cell_type": "code",
   "execution_count": 17,
   "metadata": {
    "ExecuteTime": {
     "end_time": "2019-05-30T18:06:51.909748Z",
     "start_time": "2019-05-30T18:06:51.902375Z"
    },
    "hidden": true
   },
   "outputs": [
    {
     "data": {
      "text/plain": [
       "2"
      ]
     },
     "execution_count": 17,
     "metadata": {},
     "output_type": "execute_result"
    }
   ],
   "source": [
    "arr.ndim"
   ]
  },
  {
   "cell_type": "markdown",
   "metadata": {
    "heading_collapsed": true
   },
   "source": [
    "### Principais Métodos\n",
    "\n",
    "- mean()\n",
    "- max() / argmax()\n",
    "- min() / argmin()\n",
    "- std()\n",
    "- ravel()\n",
    "- flatten()"
   ]
  },
  {
   "cell_type": "code",
   "execution_count": 23,
   "metadata": {
    "ExecuteTime": {
     "end_time": "2019-05-30T18:20:33.205378Z",
     "start_time": "2019-05-30T18:20:33.199589Z"
    },
    "hidden": true
   },
   "outputs": [
    {
     "data": {
      "text/plain": [
       "array([[ 1,  2,  3],\n",
       "       [ 4,  5,  6],\n",
       "       [ 7,  8,  9],\n",
       "       [10, 11, 12]])"
      ]
     },
     "execution_count": 23,
     "metadata": {},
     "output_type": "execute_result"
    }
   ],
   "source": [
    "arr"
   ]
  },
  {
   "cell_type": "code",
   "execution_count": 25,
   "metadata": {
    "ExecuteTime": {
     "end_time": "2019-05-30T18:20:44.987449Z",
     "start_time": "2019-05-30T18:20:44.981284Z"
    },
    "hidden": true
   },
   "outputs": [
    {
     "data": {
      "text/plain": [
       "6.5"
      ]
     },
     "execution_count": 25,
     "metadata": {},
     "output_type": "execute_result"
    }
   ],
   "source": [
    "arr.mean()"
   ]
  },
  {
   "cell_type": "code",
   "execution_count": 26,
   "metadata": {
    "ExecuteTime": {
     "end_time": "2019-05-30T18:20:52.822140Z",
     "start_time": "2019-05-30T18:20:52.815442Z"
    },
    "hidden": true
   },
   "outputs": [
    {
     "data": {
      "text/plain": [
       "12"
      ]
     },
     "execution_count": 26,
     "metadata": {},
     "output_type": "execute_result"
    }
   ],
   "source": [
    "arr.max()"
   ]
  },
  {
   "cell_type": "code",
   "execution_count": 27,
   "metadata": {
    "ExecuteTime": {
     "end_time": "2019-05-30T18:21:15.953093Z",
     "start_time": "2019-05-30T18:21:15.903961Z"
    },
    "hidden": true
   },
   "outputs": [
    {
     "data": {
      "text/plain": [
       "11"
      ]
     },
     "execution_count": 27,
     "metadata": {},
     "output_type": "execute_result"
    }
   ],
   "source": [
    "arr.argmax() #retorna o indice do maior valor"
   ]
  },
  {
   "cell_type": "code",
   "execution_count": 28,
   "metadata": {
    "ExecuteTime": {
     "end_time": "2019-05-30T18:21:32.178227Z",
     "start_time": "2019-05-30T18:21:32.171850Z"
    },
    "hidden": true
   },
   "outputs": [
    {
     "data": {
      "text/plain": [
       "1"
      ]
     },
     "execution_count": 28,
     "metadata": {},
     "output_type": "execute_result"
    }
   ],
   "source": [
    "arr.min()"
   ]
  },
  {
   "cell_type": "code",
   "execution_count": 29,
   "metadata": {
    "ExecuteTime": {
     "end_time": "2019-05-30T18:21:52.521030Z",
     "start_time": "2019-05-30T18:21:52.515104Z"
    },
    "hidden": true
   },
   "outputs": [
    {
     "data": {
      "text/plain": [
       "0"
      ]
     },
     "execution_count": 29,
     "metadata": {},
     "output_type": "execute_result"
    }
   ],
   "source": [
    "arr.argmin()"
   ]
  },
  {
   "cell_type": "code",
   "execution_count": 36,
   "metadata": {
    "ExecuteTime": {
     "end_time": "2019-05-30T19:33:53.328201Z",
     "start_time": "2019-05-30T19:33:53.321224Z"
    },
    "hidden": true
   },
   "outputs": [
    {
     "data": {
      "text/plain": [
       "3.452052529534663"
      ]
     },
     "execution_count": 36,
     "metadata": {},
     "output_type": "execute_result"
    }
   ],
   "source": [
    "arr.std() #desvio padrão"
   ]
  },
  {
   "cell_type": "markdown",
   "metadata": {
    "ExecuteTime": {
     "end_time": "2019-05-30T19:34:57.314045Z",
     "start_time": "2019-05-30T19:34:57.306101Z"
    },
    "hidden": true
   },
   "source": [
    "**O método *ravel()* transforma um array n-dimensional para um array unidimensional**"
   ]
  },
  {
   "cell_type": "code",
   "execution_count": 39,
   "metadata": {
    "ExecuteTime": {
     "end_time": "2019-05-30T19:43:16.933427Z",
     "start_time": "2019-05-30T19:43:16.928432Z"
    },
    "hidden": true
   },
   "outputs": [
    {
     "data": {
      "text/plain": [
       "array([ 1,  2,  3,  4,  5,  6,  7,  8,  9, 10, 11, 12])"
      ]
     },
     "execution_count": 39,
     "metadata": {},
     "output_type": "execute_result"
    }
   ],
   "source": [
    "arr_ravel = arr.ravel()\n",
    "arr_ravel"
   ]
  },
  {
   "cell_type": "markdown",
   "metadata": {
    "hidden": true
   },
   "source": [
    "**O método *flatten()* transforma um array n-dimensional para um array unidimensional**"
   ]
  },
  {
   "cell_type": "code",
   "execution_count": 40,
   "metadata": {
    "ExecuteTime": {
     "end_time": "2019-05-30T19:43:37.028150Z",
     "start_time": "2019-05-30T19:43:37.023163Z"
    },
    "hidden": true
   },
   "outputs": [
    {
     "data": {
      "text/plain": [
       "array([ 1,  2,  3,  4,  5,  6,  7,  8,  9, 10, 11, 12])"
      ]
     },
     "execution_count": 40,
     "metadata": {},
     "output_type": "execute_result"
    }
   ],
   "source": [
    "arr_flatten = arr.flatten()\n",
    "arr_flatten"
   ]
  },
  {
   "cell_type": "markdown",
   "metadata": {
    "hidden": true
   },
   "source": [
    "As diferenças entre ravel() e flatten()\n",
    "\n",
    "**ravel()**\n",
    "- Retorna apenas uma visulaização do array original\n",
    "- Se for feita alguma modificação no array, tambem irá modificar o array original\n",
    "- É mais rápido que o flatten e não ocupa espaço na memória\n",
    "\n",
    "**flatten()**\n",
    "- Retorna uma cópia do array original\n",
    "- Se for feita alguma modificação no array, não irá modificar o array original\n",
    "- É mais lento que o ravel e ocupa espaço na memória"
   ]
  },
  {
   "cell_type": "markdown",
   "metadata": {
    "ExecuteTime": {
     "end_time": "2019-05-30T19:46:18.417443Z",
     "start_time": "2019-05-30T19:46:18.409465Z"
    }
   },
   "source": [
    "### Operações com arrays\n",
    "\n",
    "- Soma\n",
    "- Subtração\n",
    "- Multiplicação\n",
    "- Multiplicação Matricial\n",
    "- Divisão"
   ]
  },
  {
   "cell_type": "code",
   "execution_count": 42,
   "metadata": {
    "ExecuteTime": {
     "end_time": "2019-05-30T19:51:01.060076Z",
     "start_time": "2019-05-30T19:51:01.056090Z"
    }
   },
   "outputs": [],
   "source": [
    "array_a = np.random.randint(100, size=(7,7))"
   ]
  },
  {
   "cell_type": "code",
   "execution_count": 43,
   "metadata": {
    "ExecuteTime": {
     "end_time": "2019-05-30T19:51:06.316888Z",
     "start_time": "2019-05-30T19:51:06.311902Z"
    }
   },
   "outputs": [
    {
     "data": {
      "text/plain": [
       "array([[40, 81, 28, 18, 47, 53,  1],\n",
       "       [60, 30, 57, 85,  0, 20, 54],\n",
       "       [80, 68, 80, 26, 22,  1, 47],\n",
       "       [83, 24, 17, 74, 21, 97, 94],\n",
       "       [11, 96, 76, 64, 75, 85, 55],\n",
       "       [10, 73, 43, 97, 10, 98,  9],\n",
       "       [38, 44, 21, 46, 76, 35, 75]])"
      ]
     },
     "execution_count": 43,
     "metadata": {},
     "output_type": "execute_result"
    }
   ],
   "source": [
    "array_a"
   ]
  },
  {
   "cell_type": "code",
   "execution_count": 44,
   "metadata": {
    "ExecuteTime": {
     "end_time": "2019-05-30T19:51:50.802408Z",
     "start_time": "2019-05-30T19:51:50.799449Z"
    }
   },
   "outputs": [],
   "source": [
    "array_b = np.random.randint(100,size=(7,7))"
   ]
  },
  {
   "cell_type": "code",
   "execution_count": 45,
   "metadata": {
    "ExecuteTime": {
     "end_time": "2019-05-30T19:51:55.796462Z",
     "start_time": "2019-05-30T19:51:55.789513Z"
    }
   },
   "outputs": [
    {
     "data": {
      "text/plain": [
       "array([[32, 50, 59, 74, 60, 34, 94],\n",
       "       [35, 77, 62, 96, 84, 91, 54],\n",
       "       [81, 81, 92,  1,  6, 45, 23],\n",
       "       [27, 96, 27, 93, 86, 57, 88],\n",
       "       [92, 51, 25, 72, 72, 26, 49],\n",
       "       [77, 30, 69, 76, 92, 47,  6],\n",
       "       [67, 11, 76, 22, 85, 90, 98]])"
      ]
     },
     "execution_count": 45,
     "metadata": {},
     "output_type": "execute_result"
    }
   ],
   "source": [
    "array_b"
   ]
  },
  {
   "cell_type": "code",
   "execution_count": 46,
   "metadata": {
    "ExecuteTime": {
     "end_time": "2019-05-30T19:52:16.722938Z",
     "start_time": "2019-05-30T19:52:16.714963Z"
    }
   },
   "outputs": [
    {
     "data": {
      "text/plain": [
       "array([[ 72, 131,  87,  92, 107,  87,  95],\n",
       "       [ 95, 107, 119, 181,  84, 111, 108],\n",
       "       [161, 149, 172,  27,  28,  46,  70],\n",
       "       [110, 120,  44, 167, 107, 154, 182],\n",
       "       [103, 147, 101, 136, 147, 111, 104],\n",
       "       [ 87, 103, 112, 173, 102, 145,  15],\n",
       "       [105,  55,  97,  68, 161, 125, 173]])"
      ]
     },
     "execution_count": 46,
     "metadata": {},
     "output_type": "execute_result"
    }
   ],
   "source": [
    "array_a+array_b"
   ]
  },
  {
   "cell_type": "code",
   "execution_count": 47,
   "metadata": {
    "ExecuteTime": {
     "end_time": "2019-05-30T19:52:30.643862Z",
     "start_time": "2019-05-30T19:52:30.635928Z"
    }
   },
   "outputs": [
    {
     "data": {
      "text/plain": [
       "array([[  8,  31, -31, -56, -13,  19, -93],\n",
       "       [ 25, -47,  -5, -11, -84, -71,   0],\n",
       "       [ -1, -13, -12,  25,  16, -44,  24],\n",
       "       [ 56, -72, -10, -19, -65,  40,   6],\n",
       "       [-81,  45,  51,  -8,   3,  59,   6],\n",
       "       [-67,  43, -26,  21, -82,  51,   3],\n",
       "       [-29,  33, -55,  24,  -9, -55, -23]])"
      ]
     },
     "execution_count": 47,
     "metadata": {},
     "output_type": "execute_result"
    }
   ],
   "source": [
    "array_a-array_b"
   ]
  },
  {
   "cell_type": "code",
   "execution_count": 48,
   "metadata": {
    "ExecuteTime": {
     "end_time": "2019-05-30T19:52:55.775226Z",
     "start_time": "2019-05-30T19:52:55.771238Z"
    }
   },
   "outputs": [
    {
     "data": {
      "text/plain": [
       "array([[1280, 4050, 1652, 1332, 2820, 1802,   94],\n",
       "       [2100, 2310, 3534, 8160,    0, 1820, 2916],\n",
       "       [6480, 5508, 7360,   26,  132,   45, 1081],\n",
       "       [2241, 2304,  459, 6882, 1806, 5529, 8272],\n",
       "       [1012, 4896, 1900, 4608, 5400, 2210, 2695],\n",
       "       [ 770, 2190, 2967, 7372,  920, 4606,   54],\n",
       "       [2546,  484, 1596, 1012, 6460, 3150, 7350]])"
      ]
     },
     "execution_count": 48,
     "metadata": {},
     "output_type": "execute_result"
    }
   ],
   "source": [
    "array_a*array_b"
   ]
  },
  {
   "cell_type": "code",
   "execution_count": 49,
   "metadata": {
    "ExecuteTime": {
     "end_time": "2019-05-30T19:53:18.532544Z",
     "start_time": "2019-05-30T19:53:18.521541Z"
    }
   },
   "outputs": [
    {
     "data": {
      "text/plain": [
       "array([[15341, 16231, 15352, 19872, 19265, 14820, 13081],\n",
       "       [15040, 19281, 18423, 17990, 20202, 17980, 21463],\n",
       "       [17372, 19881, 21189, 17640, 18899, 18839, 21010],\n",
       "       [22570, 19494, 24309, 26297, 31888, 23554, 26824],\n",
       "       [28726, 27222, 27241, 29128, 32579, 27073, 23173],\n",
       "       [18046, 22465, 19387, 25178, 25833, 20123, 16367],\n",
       "       [20411, 17156, 18159, 21117, 25125, 19234, 21763]])"
      ]
     },
     "execution_count": 49,
     "metadata": {},
     "output_type": "execute_result"
    }
   ],
   "source": [
    "np.dot(array_a,array_b) # Multiplicação de matrizes"
   ]
  },
  {
   "cell_type": "code",
   "execution_count": 50,
   "metadata": {
    "ExecuteTime": {
     "end_time": "2019-05-30T19:54:06.974326Z",
     "start_time": "2019-05-30T19:54:06.969342Z"
    }
   },
   "outputs": [
    {
     "data": {
      "text/plain": [
       "array([[1.25000000e+00, 1.62000000e+00, 4.74576271e-01, 2.43243243e-01,\n",
       "        7.83333333e-01, 1.55882353e+00, 1.06382979e-02],\n",
       "       [1.71428571e+00, 3.89610390e-01, 9.19354839e-01, 8.85416667e-01,\n",
       "        0.00000000e+00, 2.19780220e-01, 1.00000000e+00],\n",
       "       [9.87654321e-01, 8.39506173e-01, 8.69565217e-01, 2.60000000e+01,\n",
       "        3.66666667e+00, 2.22222222e-02, 2.04347826e+00],\n",
       "       [3.07407407e+00, 2.50000000e-01, 6.29629630e-01, 7.95698925e-01,\n",
       "        2.44186047e-01, 1.70175439e+00, 1.06818182e+00],\n",
       "       [1.19565217e-01, 1.88235294e+00, 3.04000000e+00, 8.88888889e-01,\n",
       "        1.04166667e+00, 3.26923077e+00, 1.12244898e+00],\n",
       "       [1.29870130e-01, 2.43333333e+00, 6.23188406e-01, 1.27631579e+00,\n",
       "        1.08695652e-01, 2.08510638e+00, 1.50000000e+00],\n",
       "       [5.67164179e-01, 4.00000000e+00, 2.76315789e-01, 2.09090909e+00,\n",
       "        8.94117647e-01, 3.88888889e-01, 7.65306122e-01]])"
      ]
     },
     "execution_count": 50,
     "metadata": {},
     "output_type": "execute_result"
    }
   ],
   "source": [
    "array_a/array_b"
   ]
  },
  {
   "cell_type": "code",
   "execution_count": null,
   "metadata": {},
   "outputs": [],
   "source": []
  }
 ],
 "metadata": {
  "kernelspec": {
   "display_name": "Python 3",
   "language": "python",
   "name": "python3"
  },
  "language_info": {
   "codemirror_mode": {
    "name": "ipython",
    "version": 3
   },
   "file_extension": ".py",
   "mimetype": "text/x-python",
   "name": "python",
   "nbconvert_exporter": "python",
   "pygments_lexer": "ipython3",
   "version": "3.7.0"
  },
  "toc": {
   "base_numbering": 1,
   "nav_menu": {},
   "number_sections": true,
   "sideBar": true,
   "skip_h1_title": false,
   "title_cell": "Table of Contents",
   "title_sidebar": "Contents",
   "toc_cell": false,
   "toc_position": {},
   "toc_section_display": true,
   "toc_window_display": false
  }
 },
 "nbformat": 4,
 "nbformat_minor": 2
}
